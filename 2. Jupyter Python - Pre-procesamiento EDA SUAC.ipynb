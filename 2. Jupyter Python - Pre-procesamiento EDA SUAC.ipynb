{
 "cells": [
  {
   "cell_type": "markdown",
   "metadata": {},
   "source": [
    "## Exploración SUAC - Grupo 8"
   ]
  },
  {
   "cell_type": "markdown",
   "metadata": {},
   "source": [
    "### Datasets a utilizar\n",
    "\n",
    "Para el trabajo utilizamos los datasets de SUAC del año 2017 y del primer semestre del 2018 y los consolidamos en uno solo para el análisis. Consideramos estos como los más relevantes por ser los más actualizados y nuevos.\n",
    "\n",
    "A su vez, los datasets de años inferiores al 2017 no poseen data de género, canal de ingreso del ticket y tampoco estado del contacto.\n"
   ]
  },
  {
   "cell_type": "code",
   "execution_count": 1,
   "metadata": {},
   "outputs": [],
   "source": [
    "##Importamos librerias.\n",
    "\n",
    "import numpy as np\n",
    "import pandas as pd\n",
    "import matplotlib.pyplot as plt\n",
    "import seaborn as sns"
   ]
  },
  {
   "cell_type": "code",
   "execution_count": 2,
   "metadata": {},
   "outputs": [],
   "source": [
    "##Importamos Datasets de SUAC.\n",
    "\n",
    "suac2018 = pd.read_csv('/Users/ezetalamona/Desktop/Ciencia de Datos/Ciencia de Datos - UTN FRBA/Trabajo final/SUAC Datasets/sistema-unico-de-atencion-ciudadana-2018.csv', delimiter=',', decimal=\",\", parse_dates = True, low_memory=False)\n",
    "\n",
    "suac2017 = pd.read_csv('/Users/ezetalamona/Desktop/Ciencia de Datos/Ciencia de Datos - UTN FRBA/Trabajo final/SUAC Datasets/sistema-unico-de-atencion-ciudadana-2017.csv', delimiter=';', decimal=\",\", parse_dates = True, low_memory=False)\n",
    "\n",
    "suac2016 = pd.read_csv('/Users/ezetalamona/Desktop/Ciencia de Datos/Ciencia de Datos - UTN FRBA/Trabajo final/SUAC Datasets/sistema-unico-de-atencion-ciudadana-2016.csv', delimiter=';', decimal=\",\", parse_dates = True, low_memory=False)\n",
    "\n",
    "suac2015 = pd.read_csv('/Users/ezetalamona/Desktop/Ciencia de Datos/Ciencia de Datos - UTN FRBA/Trabajo final/SUAC Datasets/sistema-unico-de-atencion-ciudadana-2015.csv', delimiter=';', decimal=\",\", parse_dates = True, low_memory=False)\n",
    "\n",
    "suac2014 = pd.read_csv('/Users/ezetalamona/Desktop/Ciencia de Datos/Ciencia de Datos - UTN FRBA/Trabajo final/SUAC Datasets/sistema-unico-de-atencion-ciudadana-2014.csv', delimiter=';', decimal=\",\", parse_dates = True, low_memory=False)"
   ]
  },
  {
   "cell_type": "code",
   "execution_count": 3,
   "metadata": {},
   "outputs": [
    {
     "data": {
      "text/plain": [
       "((860544, 19), (691878, 18), (965951, 13), (844033, 13), (756255, 13))"
      ]
     },
     "execution_count": 3,
     "metadata": {},
     "output_type": "execute_result"
    }
   ],
   "source": [
    "##Dimensiones de los Datasets.\n",
    "\n",
    "shape2018 = np.shape(suac2018)\n",
    "shape2017 = np.shape(suac2017)\n",
    "shape2016 = np.shape(suac2016)\n",
    "shape2015 = np.shape(suac2015)\n",
    "shape2014 = np.shape(suac2014)\n",
    "\n",
    "shape2018, shape2017, shape2016, shape2015, shape2014\n"
   ]
  },
  {
   "cell_type": "markdown",
   "metadata": {},
   "source": [
    "### Trabajamos sobre el Dataset 2018 para poder concatenarlo con el del 2017"
   ]
  },
  {
   "cell_type": "code",
   "execution_count": 4,
   "metadata": {},
   "outputs": [
    {
     "data": {
      "text/plain": [
       "contacto                          0\n",
       "periodo                           0\n",
       "categoria                         0\n",
       "subcategoria                   7913\n",
       "concepto                          0\n",
       "tipo_prestacion                   0\n",
       "fecha_ingreso                     0\n",
       "hora_ingreso                      0\n",
       "domicilio_cgpc                    0\n",
       "domicilio_barrio                  0\n",
       "domicilio_calle                   0\n",
       "domicilio_altura              58420\n",
       "domicilio_esquina_proxima    802124\n",
       "lat                               0\n",
       "long                              0\n",
       "canal                             0\n",
       "genero                            6\n",
       "estado_del_contacto               0\n",
       "fecha_cierre_contacto             0\n",
       "dtype: int64"
      ]
     },
     "execution_count": 4,
     "metadata": {},
     "output_type": "execute_result"
    }
   ],
   "source": [
    "suac2018.isnull().sum()"
   ]
  },
  {
   "cell_type": "code",
   "execution_count": 5,
   "metadata": {},
   "outputs": [],
   "source": [
    "## Quitamos \"Contacto\" ya que no nos aporta valor a nuestro análisis.\n",
    "suac2018 = suac2018.drop(columns='contacto')"
   ]
  },
  {
   "cell_type": "code",
   "execution_count": 6,
   "metadata": {},
   "outputs": [],
   "source": [
    "## Quitamos \"Fecha de cierre de contacto\", el Dataset del 2017 no contiene esta columna.\n",
    "suac2018 = suac2018.drop(columns='fecha_cierre_contacto')"
   ]
  },
  {
   "cell_type": "code",
   "execution_count": 7,
   "metadata": {},
   "outputs": [],
   "source": [
    "## Lo quitamos porque la mayor parte de los valores son NaNs.\n",
    "suac2018 = suac2018.drop(columns='domicilio_esquina_proxima')"
   ]
  },
  {
   "cell_type": "code",
   "execution_count": 8,
   "metadata": {},
   "outputs": [],
   "source": [
    "## Pasamos a Mayúscula columnas en minúscula, para normalizar la data entre los dos Datasets.\n",
    "suac2018['genero'] = suac2018['genero'].str.upper()"
   ]
  },
  {
   "cell_type": "code",
   "execution_count": 9,
   "metadata": {},
   "outputs": [],
   "source": [
    "## Pasamos a Mayúscula columnas en minúscula, para normalizar la data entre los dos Datasets.\n",
    "suac2018['estado_del_contacto'] = suac2018['estado_del_contacto'].str.upper()"
   ]
  },
  {
   "cell_type": "code",
   "execution_count": 10,
   "metadata": {},
   "outputs": [],
   "source": [
    "## Pasamos a Mayúscula columnas en minúscula, para normalizar la data entre los dos Datasets.\n",
    "suac2018['canal'] = suac2018['canal'].str.upper()"
   ]
  },
  {
   "cell_type": "code",
   "execution_count": 11,
   "metadata": {},
   "outputs": [
    {
     "data": {
      "text/html": [
       "<div>\n",
       "<style scoped>\n",
       "    .dataframe tbody tr th:only-of-type {\n",
       "        vertical-align: middle;\n",
       "    }\n",
       "\n",
       "    .dataframe tbody tr th {\n",
       "        vertical-align: top;\n",
       "    }\n",
       "\n",
       "    .dataframe thead th {\n",
       "        text-align: right;\n",
       "    }\n",
       "</style>\n",
       "<table border=\"1\" class=\"dataframe\">\n",
       "  <thead>\n",
       "    <tr style=\"text-align: right;\">\n",
       "      <th></th>\n",
       "      <th>periodo</th>\n",
       "      <th>categoria</th>\n",
       "      <th>subcategoria</th>\n",
       "      <th>concepto</th>\n",
       "      <th>tipo_prestacion</th>\n",
       "      <th>fecha_ingreso</th>\n",
       "      <th>hora_ingreso</th>\n",
       "      <th>domicilio_cgpc</th>\n",
       "      <th>domicilio_barrio</th>\n",
       "      <th>domicilio_calle</th>\n",
       "      <th>domicilio_altura</th>\n",
       "      <th>lat</th>\n",
       "      <th>long</th>\n",
       "      <th>canal</th>\n",
       "      <th>genero</th>\n",
       "      <th>estado_del_contacto</th>\n",
       "    </tr>\n",
       "  </thead>\n",
       "  <tbody>\n",
       "    <tr>\n",
       "      <th>0</th>\n",
       "      <td>201801</td>\n",
       "      <td>TRÁNSITO</td>\n",
       "      <td>DENUNCIA VIAL</td>\n",
       "      <td>VEHÍCULO MAL ESTACIONADO</td>\n",
       "      <td>DENUNCIA</td>\n",
       "      <td>2018-01-01</td>\n",
       "      <td>12:03:30 a.m.</td>\n",
       "      <td>COMUNA 13</td>\n",
       "      <td>NUÑEZ</td>\n",
       "      <td>PAZ, GRAL. AV.</td>\n",
       "      <td>1020.0</td>\n",
       "      <td>-34.5389273512576</td>\n",
       "      <td>-58.474350042355795</td>\n",
       "      <td>APP</td>\n",
       "      <td>MASCULINO</td>\n",
       "      <td>CERRADO</td>\n",
       "    </tr>\n",
       "    <tr>\n",
       "      <th>1</th>\n",
       "      <td>201801</td>\n",
       "      <td>TRÁNSITO</td>\n",
       "      <td>DENUNCIA VIAL</td>\n",
       "      <td>VEHÍCULO MAL ESTACIONADO</td>\n",
       "      <td>DENUNCIA</td>\n",
       "      <td>2018-01-01</td>\n",
       "      <td>12:19:33 a.m.</td>\n",
       "      <td>COMUNA 13</td>\n",
       "      <td>NUÑEZ</td>\n",
       "      <td>VEDIA</td>\n",
       "      <td>2225.0</td>\n",
       "      <td>-34.5390209801672</td>\n",
       "      <td>-58.4731164933564</td>\n",
       "      <td>APP</td>\n",
       "      <td>MASCULINO</td>\n",
       "      <td>CERRADO</td>\n",
       "    </tr>\n",
       "  </tbody>\n",
       "</table>\n",
       "</div>"
      ],
      "text/plain": [
       "   periodo categoria   subcategoria                  concepto tipo_prestacion  \\\n",
       "0   201801  TRÁNSITO  DENUNCIA VIAL  VEHÍCULO MAL ESTACIONADO        DENUNCIA   \n",
       "1   201801  TRÁNSITO  DENUNCIA VIAL  VEHÍCULO MAL ESTACIONADO        DENUNCIA   \n",
       "\n",
       "  fecha_ingreso   hora_ingreso domicilio_cgpc domicilio_barrio  \\\n",
       "0    2018-01-01  12:03:30 a.m.      COMUNA 13            NUÑEZ   \n",
       "1    2018-01-01  12:19:33 a.m.      COMUNA 13            NUÑEZ   \n",
       "\n",
       "  domicilio_calle domicilio_altura                lat                 long  \\\n",
       "0  PAZ, GRAL. AV.           1020.0  -34.5389273512576  -58.474350042355795   \n",
       "1           VEDIA           2225.0  -34.5390209801672    -58.4731164933564   \n",
       "\n",
       "  canal     genero estado_del_contacto  \n",
       "0   APP  MASCULINO             CERRADO  \n",
       "1   APP  MASCULINO             CERRADO  "
      ]
     },
     "execution_count": 11,
     "metadata": {},
     "output_type": "execute_result"
    }
   ],
   "source": [
    "suac2018.head(2)"
   ]
  },
  {
   "cell_type": "markdown",
   "metadata": {},
   "source": [
    "### Trabajamos sobre el Dataset 2017 para poder concatenarlo con el del 2018"
   ]
  },
  {
   "cell_type": "code",
   "execution_count": 12,
   "metadata": {},
   "outputs": [
    {
     "data": {
      "text/plain": [
       "CONTACTO                          0\n",
       "PERIODO                           0\n",
       "CATEGORIA                         0\n",
       "SUBCATEGORIA                    673\n",
       "CONCEPTO                          0\n",
       "TIPO_PRESTACION                   0\n",
       "FECHA_INGRESO                     0\n",
       "HORA_INGRESO                      0\n",
       "DOMICILIO_CGPC                    0\n",
       "DOMICILIO_BARRIO                  0\n",
       "DOMICILIO_CALLE                   0\n",
       "DOMICILIO_ALTURA              51327\n",
       "DOMICILIO_ESQUINA_PROXIMA    640551\n",
       "LAT                               0\n",
       "LONG                              0\n",
       "CANAL                             0\n",
       "GENERO                            0\n",
       "ESTADO_DEL_CONTACTO               0\n",
       "dtype: int64"
      ]
     },
     "execution_count": 12,
     "metadata": {},
     "output_type": "execute_result"
    }
   ],
   "source": [
    "suac2017.isnull().sum()"
   ]
  },
  {
   "cell_type": "code",
   "execution_count": 13,
   "metadata": {},
   "outputs": [],
   "source": [
    "suac2017 = suac2017.drop(columns='CONTACTO')"
   ]
  },
  {
   "cell_type": "code",
   "execution_count": 14,
   "metadata": {},
   "outputs": [],
   "source": [
    "suac2017 = suac2017.drop(columns='DOMICILIO_ESQUINA_PROXIMA')"
   ]
  },
  {
   "cell_type": "code",
   "execution_count": 15,
   "metadata": {},
   "outputs": [
    {
     "data": {
      "text/html": [
       "<div>\n",
       "<style scoped>\n",
       "    .dataframe tbody tr th:only-of-type {\n",
       "        vertical-align: middle;\n",
       "    }\n",
       "\n",
       "    .dataframe tbody tr th {\n",
       "        vertical-align: top;\n",
       "    }\n",
       "\n",
       "    .dataframe thead th {\n",
       "        text-align: right;\n",
       "    }\n",
       "</style>\n",
       "<table border=\"1\" class=\"dataframe\">\n",
       "  <thead>\n",
       "    <tr style=\"text-align: right;\">\n",
       "      <th></th>\n",
       "      <th>PERIODO</th>\n",
       "      <th>CATEGORIA</th>\n",
       "      <th>SUBCATEGORIA</th>\n",
       "      <th>CONCEPTO</th>\n",
       "      <th>TIPO_PRESTACION</th>\n",
       "      <th>FECHA_INGRESO</th>\n",
       "      <th>HORA_INGRESO</th>\n",
       "      <th>DOMICILIO_CGPC</th>\n",
       "      <th>DOMICILIO_BARRIO</th>\n",
       "      <th>DOMICILIO_CALLE</th>\n",
       "      <th>DOMICILIO_ALTURA</th>\n",
       "      <th>LAT</th>\n",
       "      <th>LONG</th>\n",
       "      <th>CANAL</th>\n",
       "      <th>GENERO</th>\n",
       "      <th>ESTADO_DEL_CONTACTO</th>\n",
       "    </tr>\n",
       "  </thead>\n",
       "  <tbody>\n",
       "    <tr>\n",
       "      <th>0</th>\n",
       "      <td>201701</td>\n",
       "      <td>CALLES Y VEREDAS</td>\n",
       "      <td>REPARACION DE VEREDA</td>\n",
       "      <td>REPARACION DE VEREDA</td>\n",
       "      <td>SOLICITUD</td>\n",
       "      <td>2/1/2017</td>\n",
       "      <td>5:48:31 p.m.</td>\n",
       "      <td>COMUNA 5</td>\n",
       "      <td>BOEDO</td>\n",
       "      <td>GIBSON</td>\n",
       "      <td>4192.0</td>\n",
       "      <td>-34.638971681443</td>\n",
       "      <td>-58.4224202457747</td>\n",
       "      <td>WEB</td>\n",
       "      <td>FEMENINO</td>\n",
       "      <td>ABIERTO</td>\n",
       "    </tr>\n",
       "    <tr>\n",
       "      <th>1</th>\n",
       "      <td>201701</td>\n",
       "      <td>MEDIOS DE TRANSPORTE</td>\n",
       "      <td>BICICLETAS</td>\n",
       "      <td>INCONVENIENTES CON ECOBICIS</td>\n",
       "      <td>QUEJA</td>\n",
       "      <td>2/1/2017</td>\n",
       "      <td>1:47:51 p.m.</td>\n",
       "      <td>COMUNA 4</td>\n",
       "      <td>BOCA</td>\n",
       "      <td>GARCIA, MARTIN AV.</td>\n",
       "      <td>364.0</td>\n",
       "      <td>-34.6289108066142</td>\n",
       "      <td>-58.3699400129738</td>\n",
       "      <td>147</td>\n",
       "      <td>MASCULINO</td>\n",
       "      <td>ABIERTO</td>\n",
       "    </tr>\n",
       "    <tr>\n",
       "      <th>2</th>\n",
       "      <td>201701</td>\n",
       "      <td>MEDIOS DE TRANSPORTE</td>\n",
       "      <td>BICICLETAS</td>\n",
       "      <td>INCONVENIENTES CON ECOBICIS</td>\n",
       "      <td>QUEJA</td>\n",
       "      <td>2/1/2017</td>\n",
       "      <td>2:08:49 p.m.</td>\n",
       "      <td>COMUNA 4</td>\n",
       "      <td>BOCA</td>\n",
       "      <td>GARCIA, MARTIN AV.</td>\n",
       "      <td>364.0</td>\n",
       "      <td>-34.6289108066142</td>\n",
       "      <td>-58.3699400129738</td>\n",
       "      <td>147</td>\n",
       "      <td>MASCULINO</td>\n",
       "      <td>ABIERTO</td>\n",
       "    </tr>\n",
       "    <tr>\n",
       "      <th>3</th>\n",
       "      <td>201701</td>\n",
       "      <td>MEDIOS DE TRANSPORTE</td>\n",
       "      <td>BICICLETAS</td>\n",
       "      <td>INCONVENIENTES CON ECOBICIS</td>\n",
       "      <td>QUEJA</td>\n",
       "      <td>3/1/2017</td>\n",
       "      <td>4:50:42 p.m.</td>\n",
       "      <td>COMUNA 14</td>\n",
       "      <td>PALERMO</td>\n",
       "      <td>JUNCAL</td>\n",
       "      <td>3102.0</td>\n",
       "      <td>-34.5860840647047</td>\n",
       "      <td>-58.4084105506486</td>\n",
       "      <td>WEB</td>\n",
       "      <td>FEMENINO</td>\n",
       "      <td>ABIERTO</td>\n",
       "    </tr>\n",
       "    <tr>\n",
       "      <th>4</th>\n",
       "      <td>201701</td>\n",
       "      <td>LIMPIEZA Y RECOLECCION</td>\n",
       "      <td>CESTOS Y CONTENEDORES</td>\n",
       "      <td>INSTALACION/REPARACION DE CONTENEDOR</td>\n",
       "      <td>SOLICITUD</td>\n",
       "      <td>3/1/2017</td>\n",
       "      <td>4:54:36 p.m.</td>\n",
       "      <td>COMUNA 4</td>\n",
       "      <td>PARQUE PATRICIOS</td>\n",
       "      <td>GARAY, JUAN DE AV.</td>\n",
       "      <td>2158.0</td>\n",
       "      <td>-34.6275856312034</td>\n",
       "      <td>-58.3934973144262</td>\n",
       "      <td>WEB</td>\n",
       "      <td>MASCULINO</td>\n",
       "      <td>ABIERTO</td>\n",
       "    </tr>\n",
       "  </tbody>\n",
       "</table>\n",
       "</div>"
      ],
      "text/plain": [
       "   PERIODO               CATEGORIA           SUBCATEGORIA  \\\n",
       "0   201701        CALLES Y VEREDAS   REPARACION DE VEREDA   \n",
       "1   201701    MEDIOS DE TRANSPORTE             BICICLETAS   \n",
       "2   201701    MEDIOS DE TRANSPORTE             BICICLETAS   \n",
       "3   201701    MEDIOS DE TRANSPORTE             BICICLETAS   \n",
       "4   201701  LIMPIEZA Y RECOLECCION  CESTOS Y CONTENEDORES   \n",
       "\n",
       "                               CONCEPTO TIPO_PRESTACION FECHA_INGRESO  \\\n",
       "0                  REPARACION DE VEREDA       SOLICITUD      2/1/2017   \n",
       "1           INCONVENIENTES CON ECOBICIS           QUEJA      2/1/2017   \n",
       "2           INCONVENIENTES CON ECOBICIS           QUEJA      2/1/2017   \n",
       "3           INCONVENIENTES CON ECOBICIS           QUEJA      3/1/2017   \n",
       "4  INSTALACION/REPARACION DE CONTENEDOR       SOLICITUD      3/1/2017   \n",
       "\n",
       "   HORA_INGRESO DOMICILIO_CGPC  DOMICILIO_BARRIO     DOMICILIO_CALLE  \\\n",
       "0  5:48:31 p.m.       COMUNA 5             BOEDO              GIBSON   \n",
       "1  1:47:51 p.m.       COMUNA 4              BOCA  GARCIA, MARTIN AV.   \n",
       "2  2:08:49 p.m.       COMUNA 4              BOCA  GARCIA, MARTIN AV.   \n",
       "3  4:50:42 p.m.      COMUNA 14           PALERMO              JUNCAL   \n",
       "4  4:54:36 p.m.       COMUNA 4  PARQUE PATRICIOS  GARAY, JUAN DE AV.   \n",
       "\n",
       "   DOMICILIO_ALTURA                LAT               LONG CANAL     GENERO  \\\n",
       "0            4192.0   -34.638971681443  -58.4224202457747   WEB   FEMENINO   \n",
       "1             364.0  -34.6289108066142  -58.3699400129738   147  MASCULINO   \n",
       "2             364.0  -34.6289108066142  -58.3699400129738   147  MASCULINO   \n",
       "3            3102.0  -34.5860840647047  -58.4084105506486   WEB   FEMENINO   \n",
       "4            2158.0  -34.6275856312034  -58.3934973144262   WEB  MASCULINO   \n",
       "\n",
       "  ESTADO_DEL_CONTACTO  \n",
       "0             ABIERTO  \n",
       "1             ABIERTO  \n",
       "2             ABIERTO  \n",
       "3             ABIERTO  \n",
       "4             ABIERTO  "
      ]
     },
     "execution_count": 15,
     "metadata": {},
     "output_type": "execute_result"
    }
   ],
   "source": [
    "suac2017.head()"
   ]
  },
  {
   "cell_type": "code",
   "execution_count": 16,
   "metadata": {},
   "outputs": [
    {
     "data": {
      "text/plain": [
       "((860544, 16), (691878, 16))"
      ]
     },
     "execution_count": 16,
     "metadata": {},
     "output_type": "execute_result"
    }
   ],
   "source": [
    "##Dimensiones de los Datasets.\n",
    "\n",
    "shape2018 = np.shape(suac2018)\n",
    "shape2017 = np.shape(suac2017)\n",
    "\n",
    "shape2018, shape2017"
   ]
  },
  {
   "cell_type": "markdown",
   "metadata": {},
   "source": [
    "## Concatenamos 2017 y 2018 en un único DataFrame para el posterior EDA en Tableau."
   ]
  },
  {
   "cell_type": "code",
   "execution_count": 17,
   "metadata": {},
   "outputs": [],
   "source": [
    "## Igualamos nombres de las columnas.\n",
    "suac2018.columns = suac2017.columns"
   ]
  },
  {
   "cell_type": "code",
   "execution_count": 18,
   "metadata": {},
   "outputs": [],
   "source": [
    "suac = suac2017.append(suac2018, ignore_index=True)"
   ]
  },
  {
   "cell_type": "code",
   "execution_count": 27,
   "metadata": {},
   "outputs": [
    {
     "data": {
      "text/plain": [
       "(1552422, 16)"
      ]
     },
     "execution_count": 27,
     "metadata": {},
     "output_type": "execute_result"
    }
   ],
   "source": [
    "np.shape(suac)"
   ]
  },
  {
   "cell_type": "code",
   "execution_count": 20,
   "metadata": {},
   "outputs": [
    {
     "data": {
      "text/plain": [
       "RangeIndex(start=0, stop=1552422, step=1)"
      ]
     },
     "execution_count": 20,
     "metadata": {},
     "output_type": "execute_result"
    }
   ],
   "source": [
    "suac.index"
   ]
  },
  {
   "cell_type": "code",
   "execution_count": 21,
   "metadata": {},
   "outputs": [
    {
     "data": {
      "text/html": [
       "<div>\n",
       "<style scoped>\n",
       "    .dataframe tbody tr th:only-of-type {\n",
       "        vertical-align: middle;\n",
       "    }\n",
       "\n",
       "    .dataframe tbody tr th {\n",
       "        vertical-align: top;\n",
       "    }\n",
       "\n",
       "    .dataframe thead th {\n",
       "        text-align: right;\n",
       "    }\n",
       "</style>\n",
       "<table border=\"1\" class=\"dataframe\">\n",
       "  <thead>\n",
       "    <tr style=\"text-align: right;\">\n",
       "      <th></th>\n",
       "      <th>PERIODO</th>\n",
       "      <th>CATEGORIA</th>\n",
       "      <th>SUBCATEGORIA</th>\n",
       "      <th>CONCEPTO</th>\n",
       "      <th>TIPO_PRESTACION</th>\n",
       "      <th>FECHA_INGRESO</th>\n",
       "      <th>HORA_INGRESO</th>\n",
       "      <th>DOMICILIO_CGPC</th>\n",
       "      <th>DOMICILIO_BARRIO</th>\n",
       "      <th>DOMICILIO_CALLE</th>\n",
       "      <th>DOMICILIO_ALTURA</th>\n",
       "      <th>LAT</th>\n",
       "      <th>LONG</th>\n",
       "      <th>CANAL</th>\n",
       "      <th>GENERO</th>\n",
       "      <th>ESTADO_DEL_CONTACTO</th>\n",
       "    </tr>\n",
       "  </thead>\n",
       "  <tbody>\n",
       "    <tr>\n",
       "      <th>0</th>\n",
       "      <td>201701</td>\n",
       "      <td>CALLES Y VEREDAS</td>\n",
       "      <td>REPARACION DE VEREDA</td>\n",
       "      <td>REPARACION DE VEREDA</td>\n",
       "      <td>SOLICITUD</td>\n",
       "      <td>2/1/2017</td>\n",
       "      <td>5:48:31 p.m.</td>\n",
       "      <td>COMUNA 5</td>\n",
       "      <td>BOEDO</td>\n",
       "      <td>GIBSON</td>\n",
       "      <td>4192</td>\n",
       "      <td>-34.638971681443</td>\n",
       "      <td>-58.4224202457747</td>\n",
       "      <td>WEB</td>\n",
       "      <td>FEMENINO</td>\n",
       "      <td>ABIERTO</td>\n",
       "    </tr>\n",
       "    <tr>\n",
       "      <th>1</th>\n",
       "      <td>201701</td>\n",
       "      <td>MEDIOS DE TRANSPORTE</td>\n",
       "      <td>BICICLETAS</td>\n",
       "      <td>INCONVENIENTES CON ECOBICIS</td>\n",
       "      <td>QUEJA</td>\n",
       "      <td>2/1/2017</td>\n",
       "      <td>1:47:51 p.m.</td>\n",
       "      <td>COMUNA 4</td>\n",
       "      <td>BOCA</td>\n",
       "      <td>GARCIA, MARTIN AV.</td>\n",
       "      <td>364</td>\n",
       "      <td>-34.6289108066142</td>\n",
       "      <td>-58.3699400129738</td>\n",
       "      <td>147</td>\n",
       "      <td>MASCULINO</td>\n",
       "      <td>ABIERTO</td>\n",
       "    </tr>\n",
       "    <tr>\n",
       "      <th>2</th>\n",
       "      <td>201701</td>\n",
       "      <td>MEDIOS DE TRANSPORTE</td>\n",
       "      <td>BICICLETAS</td>\n",
       "      <td>INCONVENIENTES CON ECOBICIS</td>\n",
       "      <td>QUEJA</td>\n",
       "      <td>2/1/2017</td>\n",
       "      <td>2:08:49 p.m.</td>\n",
       "      <td>COMUNA 4</td>\n",
       "      <td>BOCA</td>\n",
       "      <td>GARCIA, MARTIN AV.</td>\n",
       "      <td>364</td>\n",
       "      <td>-34.6289108066142</td>\n",
       "      <td>-58.3699400129738</td>\n",
       "      <td>147</td>\n",
       "      <td>MASCULINO</td>\n",
       "      <td>ABIERTO</td>\n",
       "    </tr>\n",
       "    <tr>\n",
       "      <th>3</th>\n",
       "      <td>201701</td>\n",
       "      <td>MEDIOS DE TRANSPORTE</td>\n",
       "      <td>BICICLETAS</td>\n",
       "      <td>INCONVENIENTES CON ECOBICIS</td>\n",
       "      <td>QUEJA</td>\n",
       "      <td>3/1/2017</td>\n",
       "      <td>4:50:42 p.m.</td>\n",
       "      <td>COMUNA 14</td>\n",
       "      <td>PALERMO</td>\n",
       "      <td>JUNCAL</td>\n",
       "      <td>3102</td>\n",
       "      <td>-34.5860840647047</td>\n",
       "      <td>-58.4084105506486</td>\n",
       "      <td>WEB</td>\n",
       "      <td>FEMENINO</td>\n",
       "      <td>ABIERTO</td>\n",
       "    </tr>\n",
       "    <tr>\n",
       "      <th>4</th>\n",
       "      <td>201701</td>\n",
       "      <td>LIMPIEZA Y RECOLECCION</td>\n",
       "      <td>CESTOS Y CONTENEDORES</td>\n",
       "      <td>INSTALACION/REPARACION DE CONTENEDOR</td>\n",
       "      <td>SOLICITUD</td>\n",
       "      <td>3/1/2017</td>\n",
       "      <td>4:54:36 p.m.</td>\n",
       "      <td>COMUNA 4</td>\n",
       "      <td>PARQUE PATRICIOS</td>\n",
       "      <td>GARAY, JUAN DE AV.</td>\n",
       "      <td>2158</td>\n",
       "      <td>-34.6275856312034</td>\n",
       "      <td>-58.3934973144262</td>\n",
       "      <td>WEB</td>\n",
       "      <td>MASCULINO</td>\n",
       "      <td>ABIERTO</td>\n",
       "    </tr>\n",
       "  </tbody>\n",
       "</table>\n",
       "</div>"
      ],
      "text/plain": [
       "   PERIODO               CATEGORIA           SUBCATEGORIA  \\\n",
       "0   201701        CALLES Y VEREDAS   REPARACION DE VEREDA   \n",
       "1   201701    MEDIOS DE TRANSPORTE             BICICLETAS   \n",
       "2   201701    MEDIOS DE TRANSPORTE             BICICLETAS   \n",
       "3   201701    MEDIOS DE TRANSPORTE             BICICLETAS   \n",
       "4   201701  LIMPIEZA Y RECOLECCION  CESTOS Y CONTENEDORES   \n",
       "\n",
       "                               CONCEPTO TIPO_PRESTACION FECHA_INGRESO  \\\n",
       "0                  REPARACION DE VEREDA       SOLICITUD      2/1/2017   \n",
       "1           INCONVENIENTES CON ECOBICIS           QUEJA      2/1/2017   \n",
       "2           INCONVENIENTES CON ECOBICIS           QUEJA      2/1/2017   \n",
       "3           INCONVENIENTES CON ECOBICIS           QUEJA      3/1/2017   \n",
       "4  INSTALACION/REPARACION DE CONTENEDOR       SOLICITUD      3/1/2017   \n",
       "\n",
       "   HORA_INGRESO DOMICILIO_CGPC  DOMICILIO_BARRIO     DOMICILIO_CALLE  \\\n",
       "0  5:48:31 p.m.       COMUNA 5             BOEDO              GIBSON   \n",
       "1  1:47:51 p.m.       COMUNA 4              BOCA  GARCIA, MARTIN AV.   \n",
       "2  2:08:49 p.m.       COMUNA 4              BOCA  GARCIA, MARTIN AV.   \n",
       "3  4:50:42 p.m.      COMUNA 14           PALERMO              JUNCAL   \n",
       "4  4:54:36 p.m.       COMUNA 4  PARQUE PATRICIOS  GARAY, JUAN DE AV.   \n",
       "\n",
       "  DOMICILIO_ALTURA                LAT               LONG CANAL     GENERO  \\\n",
       "0             4192   -34.638971681443  -58.4224202457747   WEB   FEMENINO   \n",
       "1              364  -34.6289108066142  -58.3699400129738   147  MASCULINO   \n",
       "2              364  -34.6289108066142  -58.3699400129738   147  MASCULINO   \n",
       "3             3102  -34.5860840647047  -58.4084105506486   WEB   FEMENINO   \n",
       "4             2158  -34.6275856312034  -58.3934973144262   WEB  MASCULINO   \n",
       "\n",
       "  ESTADO_DEL_CONTACTO  \n",
       "0             ABIERTO  \n",
       "1             ABIERTO  \n",
       "2             ABIERTO  \n",
       "3             ABIERTO  \n",
       "4             ABIERTO  "
      ]
     },
     "execution_count": 21,
     "metadata": {},
     "output_type": "execute_result"
    }
   ],
   "source": [
    "suac.head()"
   ]
  },
  {
   "cell_type": "code",
   "execution_count": 22,
   "metadata": {},
   "outputs": [
    {
     "data": {
      "text/plain": [
       "array([201701, 201702, 201703, 201704, 201705, 201707, 201706, 201708,\n",
       "       201709, 201710, 201711, 201712, 201801, 201802, 201803, 201804,\n",
       "       201805, 201806, 201807])"
      ]
     },
     "execution_count": 22,
     "metadata": {},
     "output_type": "execute_result"
    }
   ],
   "source": [
    "suac['PERIODO'].unique()"
   ]
  },
  {
   "cell_type": "markdown",
   "metadata": {},
   "source": [
    "## Unificamos Categorías (acentos)"
   ]
  },
  {
   "cell_type": "code",
   "execution_count": 23,
   "metadata": {},
   "outputs": [
    {
     "data": {
      "text/plain": [
       "array(['CALLES Y VEREDAS', 'MEDIOS DE TRANSPORTE',\n",
       "       'LIMPIEZA Y RECOLECCION', 'TRANSITO',\n",
       "       'SUGERENCIAS Y LIBRO DE QUEJAS', 'ARBOLADO Y ESPACIOS VERDES',\n",
       "       'SEGURIDAD', 'ORDENAMIENTO DEL ESPACIO PUBLICO', 'ALUMBRADO',\n",
       "       'MEDIO AMBIENTE Y RECICLADO',\n",
       "       'FISCALIZACION ACTIVIDADES COMERCIALES',\n",
       "       'RECICLADO Y PROTECCION AMBIENTAL',\n",
       "       'CONTROL EDILICIO, OBRAS Y CATASTRO', 'SALUD Y SERVICIOS SOCIALES',\n",
       "       'PLUVIALES', 'OTRAS', 'TRAMITES Y SERVICIOS', 'CEMENTERIOS',\n",
       "       'TRÁNSITO', 'TRÁMITES Y SERVICIOS', 'LIMPIEZA Y RECOLECCIÓN',\n",
       "       'ORDENAMIENTO DEL ESPACIO PÚBLICO',\n",
       "       'FISCALIZACIÓN ACTIVIDADES COMERCIALES',\n",
       "       'RECICLADO Y PROTECCIÓN AMBIENTAL'], dtype=object)"
      ]
     },
     "execution_count": 23,
     "metadata": {},
     "output_type": "execute_result"
    }
   ],
   "source": [
    "suac['CATEGORIA'].unique()"
   ]
  },
  {
   "cell_type": "code",
   "execution_count": 24,
   "metadata": {},
   "outputs": [],
   "source": [
    "suac['CATEGORIA'] = suac['CATEGORIA'].replace(\"LIMPIEZA Y RECOLECCION\",\"LIMPIEZA Y RECOLECCIÓN\")\n",
    "suac['CATEGORIA'] = suac['CATEGORIA'].replace(\"TRANSITO\",\"TRÁNSITO\")\n",
    "suac['CATEGORIA'] = suac['CATEGORIA'].replace(\"RECICLADO Y PROTECCION AMBIENTAL\",\"RECICLADO Y PROTECCIÓN AMBIENTAL\")\n",
    "suac['CATEGORIA'] = suac['CATEGORIA'].replace(\"FISCALIZACION ACTIVIDADES COMERCIALES\",\"FISCALIZACIÓN ACTIVIDADES COMERCIALES\")\n",
    "suac['CATEGORIA'] = suac['CATEGORIA'].replace(\"ORDENAMIENTO DEL ESPACIO PUBLICO\",\"ORDENAMIENTO DEL ESPACIO PÚBLICO\")\n",
    "suac['CATEGORIA'] = suac['CATEGORIA'].replace(\"TRAMITES Y SERVICIOS\",\"TRÁMITES Y SERVICIOS\")\n"
   ]
  },
  {
   "cell_type": "code",
   "execution_count": 25,
   "metadata": {},
   "outputs": [
    {
     "data": {
      "text/plain": [
       "array(['CALLES Y VEREDAS', 'MEDIOS DE TRANSPORTE',\n",
       "       'LIMPIEZA Y RECOLECCIÓN', 'TRÁNSITO',\n",
       "       'SUGERENCIAS Y LIBRO DE QUEJAS', 'ARBOLADO Y ESPACIOS VERDES',\n",
       "       'SEGURIDAD', 'ORDENAMIENTO DEL ESPACIO PÚBLICO', 'ALUMBRADO',\n",
       "       'MEDIO AMBIENTE Y RECICLADO',\n",
       "       'FISCALIZACIÓN ACTIVIDADES COMERCIALES',\n",
       "       'RECICLADO Y PROTECCIÓN AMBIENTAL',\n",
       "       'CONTROL EDILICIO, OBRAS Y CATASTRO', 'SALUD Y SERVICIOS SOCIALES',\n",
       "       'PLUVIALES', 'OTRAS', 'TRAMITES Y SERVICIOS', 'CEMENTERIOS',\n",
       "       'TRÁMITES Y SERVICIOS'], dtype=object)"
      ]
     },
     "execution_count": 25,
     "metadata": {},
     "output_type": "execute_result"
    }
   ],
   "source": [
    "suac['CATEGORIA'].unique()"
   ]
  },
  {
   "cell_type": "code",
   "execution_count": null,
   "metadata": {},
   "outputs": [],
   "source": []
  },
  {
   "cell_type": "markdown",
   "metadata": {},
   "source": [
    "## Datasets anteriores, breve descripción. "
   ]
  },
  {
   "cell_type": "code",
   "execution_count": 28,
   "metadata": {},
   "outputs": [
    {
     "data": {
      "text/html": [
       "<div>\n",
       "<style scoped>\n",
       "    .dataframe tbody tr th:only-of-type {\n",
       "        vertical-align: middle;\n",
       "    }\n",
       "\n",
       "    .dataframe tbody tr th {\n",
       "        vertical-align: top;\n",
       "    }\n",
       "\n",
       "    .dataframe thead th {\n",
       "        text-align: right;\n",
       "    }\n",
       "</style>\n",
       "<table border=\"1\" class=\"dataframe\">\n",
       "  <thead>\n",
       "    <tr style=\"text-align: right;\">\n",
       "      <th></th>\n",
       "      <th>PERIODO</th>\n",
       "      <th>CONCEPTO</th>\n",
       "      <th>RUBRO</th>\n",
       "      <th>TIPO_PRESTACION</th>\n",
       "      <th>FECHA_INGRESO</th>\n",
       "      <th>HORA_INGRESO</th>\n",
       "      <th>DOMICILIO_CGPC</th>\n",
       "      <th>DOMICILIO_BARRIO</th>\n",
       "      <th>DOMICILIO_CALLE</th>\n",
       "      <th>DOMICILIO_ALTURA</th>\n",
       "      <th>DOMICILIO_ESQUINA_PROXIMA</th>\n",
       "      <th>LAT</th>\n",
       "      <th>LONG</th>\n",
       "    </tr>\n",
       "  </thead>\n",
       "  <tbody>\n",
       "    <tr>\n",
       "      <th>0</th>\n",
       "      <td>201601</td>\n",
       "      <td>REPARACION DE BANCO EN PARQUE / PLAZA</td>\n",
       "      <td>PLAZAS</td>\n",
       "      <td>RECLAMO</td>\n",
       "      <td>01/01/2016</td>\n",
       "      <td>12:00:45 A.M.</td>\n",
       "      <td>COMUNA 8</td>\n",
       "      <td>VILLA SOLDATI</td>\n",
       "      <td>RABANAL, FRANCISCO, INTENDENTE AV.</td>\n",
       "      <td>3000</td>\n",
       "      <td>NaN</td>\n",
       "      <td>-34.6645</td>\n",
       "      <td>-58.4365</td>\n",
       "    </tr>\n",
       "    <tr>\n",
       "      <th>1</th>\n",
       "      <td>201601</td>\n",
       "      <td>SOLICITUD DE PAGO VOLUNTARIO DE INFRACCIONES</td>\n",
       "      <td>TRANSPORTE Y TRANSITO</td>\n",
       "      <td>TRAMITE</td>\n",
       "      <td>01/01/2016</td>\n",
       "      <td>02:09:24 A.M.</td>\n",
       "      <td>COMUNA 10</td>\n",
       "      <td>VILLA REAL</td>\n",
       "      <td>MOLIERE</td>\n",
       "      <td>2843</td>\n",
       "      <td>NaN</td>\n",
       "      <td>-34.6161</td>\n",
       "      <td>-58.5268</td>\n",
       "    </tr>\n",
       "  </tbody>\n",
       "</table>\n",
       "</div>"
      ],
      "text/plain": [
       "   PERIODO                                      CONCEPTO  \\\n",
       "0   201601         REPARACION DE BANCO EN PARQUE / PLAZA   \n",
       "1   201601  SOLICITUD DE PAGO VOLUNTARIO DE INFRACCIONES   \n",
       "\n",
       "                   RUBRO TIPO_PRESTACION FECHA_INGRESO   HORA_INGRESO  \\\n",
       "0                 PLAZAS         RECLAMO    01/01/2016  12:00:45 A.M.   \n",
       "1  TRANSPORTE Y TRANSITO         TRAMITE    01/01/2016  02:09:24 A.M.   \n",
       "\n",
       "  DOMICILIO_CGPC DOMICILIO_BARRIO                     DOMICILIO_CALLE  \\\n",
       "0       COMUNA 8    VILLA SOLDATI  RABANAL, FRANCISCO, INTENDENTE AV.   \n",
       "1      COMUNA 10       VILLA REAL                             MOLIERE   \n",
       "\n",
       "  DOMICILIO_ALTURA DOMICILIO_ESQUINA_PROXIMA      LAT     LONG  \n",
       "0             3000                       NaN -34.6645 -58.4365  \n",
       "1             2843                       NaN -34.6161 -58.5268  "
      ]
     },
     "execution_count": 28,
     "metadata": {},
     "output_type": "execute_result"
    }
   ],
   "source": [
    "suac2016.head(2)"
   ]
  },
  {
   "cell_type": "code",
   "execution_count": 29,
   "metadata": {},
   "outputs": [
    {
     "data": {
      "text/html": [
       "<div>\n",
       "<style scoped>\n",
       "    .dataframe tbody tr th:only-of-type {\n",
       "        vertical-align: middle;\n",
       "    }\n",
       "\n",
       "    .dataframe tbody tr th {\n",
       "        vertical-align: top;\n",
       "    }\n",
       "\n",
       "    .dataframe thead th {\n",
       "        text-align: right;\n",
       "    }\n",
       "</style>\n",
       "<table border=\"1\" class=\"dataframe\">\n",
       "  <thead>\n",
       "    <tr style=\"text-align: right;\">\n",
       "      <th></th>\n",
       "      <th>PERIODO</th>\n",
       "      <th>CONCEPTO</th>\n",
       "      <th>RUBRO</th>\n",
       "      <th>TIPO_PRESTACION</th>\n",
       "      <th>FECHA_INGRESO</th>\n",
       "      <th>HORA_INGRESO</th>\n",
       "      <th>DOMICILIO_CGPC</th>\n",
       "      <th>BARRIO</th>\n",
       "      <th>DOMICILIO_CALLE</th>\n",
       "      <th>DOMICILIO_ALTURA</th>\n",
       "      <th>DOMICILIO_ESQUINA_PROXIMA</th>\n",
       "      <th>LAT</th>\n",
       "      <th>LONG</th>\n",
       "    </tr>\n",
       "  </thead>\n",
       "  <tbody>\n",
       "    <tr>\n",
       "      <th>0</th>\n",
       "      <td>201501</td>\n",
       "      <td>PERSONAS SIN TECHO EVALUACION</td>\n",
       "      <td>ATENCION SOCIAL</td>\n",
       "      <td>DENUNCIA</td>\n",
       "      <td>1/1/2015</td>\n",
       "      <td>12:01:00 A.M.</td>\n",
       "      <td>COMUNA 15</td>\n",
       "      <td>CHACARITA</td>\n",
       "      <td>NEWBERY, JORGE AV.</td>\n",
       "      <td></td>\n",
       "      <td>GUZMAN</td>\n",
       "      <td>-34.5901</td>\n",
       "      <td>-58.4523</td>\n",
       "    </tr>\n",
       "    <tr>\n",
       "      <th>1</th>\n",
       "      <td>201501</td>\n",
       "      <td>PERSONAS SIN TECHO EVALUACION</td>\n",
       "      <td>ATENCION SOCIAL</td>\n",
       "      <td>DENUNCIA</td>\n",
       "      <td>1/1/2015</td>\n",
       "      <td>12:21:00 A.M.</td>\n",
       "      <td>COMUNA 7</td>\n",
       "      <td>FLORES</td>\n",
       "      <td>VARELA AV.</td>\n",
       "      <td></td>\n",
       "      <td>SANTANDER</td>\n",
       "      <td>-34.6443</td>\n",
       "      <td>-58.4534</td>\n",
       "    </tr>\n",
       "  </tbody>\n",
       "</table>\n",
       "</div>"
      ],
      "text/plain": [
       "   PERIODO                       CONCEPTO            RUBRO TIPO_PRESTACION  \\\n",
       "0   201501  PERSONAS SIN TECHO EVALUACION  ATENCION SOCIAL        DENUNCIA   \n",
       "1   201501  PERSONAS SIN TECHO EVALUACION  ATENCION SOCIAL        DENUNCIA   \n",
       "\n",
       "  FECHA_INGRESO   HORA_INGRESO DOMICILIO_CGPC     BARRIO     DOMICILIO_CALLE  \\\n",
       "0      1/1/2015  12:01:00 A.M.      COMUNA 15  CHACARITA  NEWBERY, JORGE AV.   \n",
       "1      1/1/2015  12:21:00 A.M.       COMUNA 7     FLORES          VARELA AV.   \n",
       "\n",
       "  DOMICILIO_ALTURA DOMICILIO_ESQUINA_PROXIMA       LAT      LONG  \n",
       "0                                     GUZMAN  -34.5901  -58.4523  \n",
       "1                                  SANTANDER  -34.6443  -58.4534  "
      ]
     },
     "execution_count": 29,
     "metadata": {},
     "output_type": "execute_result"
    }
   ],
   "source": [
    "suac2015.head(2)"
   ]
  },
  {
   "cell_type": "code",
   "execution_count": 30,
   "metadata": {},
   "outputs": [
    {
     "data": {
      "text/html": [
       "<div>\n",
       "<style scoped>\n",
       "    .dataframe tbody tr th:only-of-type {\n",
       "        vertical-align: middle;\n",
       "    }\n",
       "\n",
       "    .dataframe tbody tr th {\n",
       "        vertical-align: top;\n",
       "    }\n",
       "\n",
       "    .dataframe thead th {\n",
       "        text-align: right;\n",
       "    }\n",
       "</style>\n",
       "<table border=\"1\" class=\"dataframe\">\n",
       "  <thead>\n",
       "    <tr style=\"text-align: right;\">\n",
       "      <th></th>\n",
       "      <th>PERIODO</th>\n",
       "      <th>CONCEPTO</th>\n",
       "      <th>RUBRO</th>\n",
       "      <th>TIPO_PRESTACION</th>\n",
       "      <th>FECHA_INGRESO</th>\n",
       "      <th>HORA_INGRESO</th>\n",
       "      <th>DOMICILIO_CGPC</th>\n",
       "      <th>BARRIO</th>\n",
       "      <th>DOMICILIO_CALLE</th>\n",
       "      <th>DOMICILIO_ALTURA</th>\n",
       "      <th>DOMICILIO_ESQUINA_PROXIMA</th>\n",
       "      <th>LAT</th>\n",
       "      <th>LONG</th>\n",
       "    </tr>\n",
       "  </thead>\n",
       "  <tbody>\n",
       "    <tr>\n",
       "      <th>0</th>\n",
       "      <td>201401</td>\n",
       "      <td>REPARACION DE REFUGIO DE COLECTIVO</td>\n",
       "      <td>COLECTIVO</td>\n",
       "      <td>RECLAMO</td>\n",
       "      <td>1/1/2014</td>\n",
       "      <td>1:15:07 A.M.</td>\n",
       "      <td>COMUNA 6</td>\n",
       "      <td>CABALLITO</td>\n",
       "      <td>ACOYTE AV.</td>\n",
       "      <td>560</td>\n",
       "      <td></td>\n",
       "      <td>-34.612230457543568</td>\n",
       "      <td>-58.438734955826256</td>\n",
       "    </tr>\n",
       "    <tr>\n",
       "      <th>1</th>\n",
       "      <td>201401</td>\n",
       "      <td>SOLICITUD DE PARTIDAS</td>\n",
       "      <td>REGISTRO CIVIL</td>\n",
       "      <td>TRAMITE</td>\n",
       "      <td>1/1/2014</td>\n",
       "      <td>2:18:24 A.M.</td>\n",
       "      <td>COMUNA 1</td>\n",
       "      <td>SAN NICOLAS</td>\n",
       "      <td>URUGUAY AV.</td>\n",
       "      <td>753</td>\n",
       "      <td></td>\n",
       "      <td>-34.599886419531522</td>\n",
       "      <td>-58.386683726524559</td>\n",
       "    </tr>\n",
       "  </tbody>\n",
       "</table>\n",
       "</div>"
      ],
      "text/plain": [
       "   PERIODO                            CONCEPTO           RUBRO  \\\n",
       "0   201401  REPARACION DE REFUGIO DE COLECTIVO       COLECTIVO   \n",
       "1   201401               SOLICITUD DE PARTIDAS  REGISTRO CIVIL   \n",
       "\n",
       "  TIPO_PRESTACION FECHA_INGRESO  HORA_INGRESO DOMICILIO_CGPC       BARRIO  \\\n",
       "0         RECLAMO      1/1/2014  1:15:07 A.M.       COMUNA 6    CABALLITO   \n",
       "1         TRAMITE      1/1/2014  2:18:24 A.M.       COMUNA 1  SAN NICOLAS   \n",
       "\n",
       "  DOMICILIO_CALLE DOMICILIO_ALTURA DOMICILIO_ESQUINA_PROXIMA  \\\n",
       "0      ACOYTE AV.              560                             \n",
       "1     URUGUAY AV.              753                             \n",
       "\n",
       "                   LAT                 LONG  \n",
       "0  -34.612230457543568  -58.438734955826256  \n",
       "1  -34.599886419531522  -58.386683726524559  "
      ]
     },
     "execution_count": 30,
     "metadata": {},
     "output_type": "execute_result"
    }
   ],
   "source": [
    "suac2014.head(2)"
   ]
  },
  {
   "cell_type": "code",
   "execution_count": 31,
   "metadata": {},
   "outputs": [],
   "source": [
    "del suac2014\n",
    "del suac2015\n",
    "del suac2016"
   ]
  },
  {
   "cell_type": "code",
   "execution_count": null,
   "metadata": {},
   "outputs": [],
   "source": [
    "##Clasificador por el canal. Elegir algunas variables de menos a más."
   ]
  },
  {
   "cell_type": "markdown",
   "metadata": {},
   "source": [
    "## Exportamos el nuevo DataFrame a un archivo .csv para poder hacer el EDA en Tableau"
   ]
  },
  {
   "cell_type": "code",
   "execution_count": 32,
   "metadata": {},
   "outputs": [],
   "source": [
    "suac.to_csv(path_or_buf='/Users/ezetalamona/Desktop/Ciencia de Datos/Ciencia de Datos - UTN FRBA/Trabajo final/SUAC Datasets/sistema-unico-de-atencion-ciudadana-consolidado.csv')"
   ]
  },
  {
   "cell_type": "code",
   "execution_count": null,
   "metadata": {},
   "outputs": [],
   "source": [
    "## Contactos Buenos Aires Data\n",
    "## Felix -> fppenna.gcba@gmail.com\n",
    "## Martin -> malalu@buenosaires.gob.ar"
   ]
  },
  {
   "cell_type": "code",
   "execution_count": null,
   "metadata": {},
   "outputs": [],
   "source": []
  },
  {
   "cell_type": "code",
   "execution_count": null,
   "metadata": {},
   "outputs": [],
   "source": []
  }
 ],
 "metadata": {
  "kernelspec": {
   "display_name": "Python 3",
   "language": "python",
   "name": "python3"
  },
  "language_info": {
   "codemirror_mode": {
    "name": "ipython",
    "version": 3
   },
   "file_extension": ".py",
   "mimetype": "text/x-python",
   "name": "python",
   "nbconvert_exporter": "python",
   "pygments_lexer": "ipython3",
   "version": "3.6.5"
  }
 },
 "nbformat": 4,
 "nbformat_minor": 2
}
