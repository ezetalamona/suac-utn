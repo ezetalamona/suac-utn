{
 "cells": [
  {
   "cell_type": "markdown",
   "metadata": {},
   "source": [
    "# Modelo de aprendizaje sobre datos del SUAC - Buenos Aires Data"
   ]
  },
  {
   "cell_type": "code",
   "execution_count": 1,
   "metadata": {},
   "outputs": [],
   "source": [
    "##Importamos librerias.\n",
    "import numpy as np\n",
    "import pandas as pd\n",
    "import matplotlib.pyplot as plt\n",
    "import seaborn as sns"
   ]
  },
  {
   "cell_type": "code",
   "execution_count": 2,
   "metadata": {},
   "outputs": [],
   "source": [
    "from sklearn import svm\n",
    "from sklearn.svm import SVC\n",
    "from sklearn.model_selection import train_test_split\n",
    "from sklearn.metrics import accuracy_score\n",
    "from sklearn.model_selection import cross_val_score\n",
    "from sklearn.metrics import roc_curve, auc\n",
    "from sklearn import metrics\n",
    "from sklearn.model_selection import GridSearchCV\n",
    "from sklearn.metrics import confusion_matrix\n",
    "from sklearn.neighbors import KNeighborsClassifier"
   ]
  },
  {
   "cell_type": "markdown",
   "metadata": {},
   "source": [
    "## Importamos Data Set consolidado y limpiamos detalles"
   ]
  },
  {
   "cell_type": "code",
   "execution_count": 3,
   "metadata": {},
   "outputs": [],
   "source": [
    "##Importamos Dataset de SUAC 2017 y 2018 concatenado.\n",
    "datasuac = pd.read_csv('/Users/ezetalamona/Desktop/Ciencia de Datos/Ciencia de Datos - UTN FRBA/Trabajo final/SUAC Datasets/sistema-unico-de-atencion-ciudadana-consolidado.csv', delimiter=',', decimal=\",\", parse_dates = True, low_memory=False)"
   ]
  },
  {
   "cell_type": "code",
   "execution_count": 4,
   "metadata": {},
   "outputs": [
    {
     "data": {
      "text/plain": [
       "(1552422, 17)"
      ]
     },
     "execution_count": 4,
     "metadata": {},
     "output_type": "execute_result"
    }
   ],
   "source": [
    "np.shape(datasuac)"
   ]
  },
  {
   "cell_type": "code",
   "execution_count": 5,
   "metadata": {},
   "outputs": [
    {
     "data": {
      "text/html": [
       "<div>\n",
       "<style scoped>\n",
       "    .dataframe tbody tr th:only-of-type {\n",
       "        vertical-align: middle;\n",
       "    }\n",
       "\n",
       "    .dataframe tbody tr th {\n",
       "        vertical-align: top;\n",
       "    }\n",
       "\n",
       "    .dataframe thead th {\n",
       "        text-align: right;\n",
       "    }\n",
       "</style>\n",
       "<table border=\"1\" class=\"dataframe\">\n",
       "  <thead>\n",
       "    <tr style=\"text-align: right;\">\n",
       "      <th></th>\n",
       "      <th>Unnamed: 0</th>\n",
       "      <th>PERIODO</th>\n",
       "      <th>CATEGORIA</th>\n",
       "      <th>SUBCATEGORIA</th>\n",
       "      <th>CONCEPTO</th>\n",
       "      <th>TIPO_PRESTACION</th>\n",
       "      <th>FECHA_INGRESO</th>\n",
       "      <th>HORA_INGRESO</th>\n",
       "      <th>DOMICILIO_CGPC</th>\n",
       "      <th>DOMICILIO_BARRIO</th>\n",
       "      <th>DOMICILIO_CALLE</th>\n",
       "      <th>DOMICILIO_ALTURA</th>\n",
       "      <th>LAT</th>\n",
       "      <th>LONG</th>\n",
       "      <th>CANAL</th>\n",
       "      <th>GENERO</th>\n",
       "      <th>ESTADO_DEL_CONTACTO</th>\n",
       "    </tr>\n",
       "  </thead>\n",
       "  <tbody>\n",
       "    <tr>\n",
       "      <th>0</th>\n",
       "      <td>0</td>\n",
       "      <td>201701</td>\n",
       "      <td>CALLES Y VEREDAS</td>\n",
       "      <td>REPARACION DE VEREDA</td>\n",
       "      <td>REPARACION DE VEREDA</td>\n",
       "      <td>SOLICITUD</td>\n",
       "      <td>2/1/2017</td>\n",
       "      <td>5:48:31 p.m.</td>\n",
       "      <td>COMUNA 5</td>\n",
       "      <td>BOEDO</td>\n",
       "      <td>GIBSON</td>\n",
       "      <td>4192.0</td>\n",
       "      <td>-34.638971681443</td>\n",
       "      <td>-58.4224202457747</td>\n",
       "      <td>WEB</td>\n",
       "      <td>FEMENINO</td>\n",
       "      <td>ABIERTO</td>\n",
       "    </tr>\n",
       "    <tr>\n",
       "      <th>1</th>\n",
       "      <td>1</td>\n",
       "      <td>201701</td>\n",
       "      <td>MEDIOS DE TRANSPORTE</td>\n",
       "      <td>BICICLETAS</td>\n",
       "      <td>INCONVENIENTES CON ECOBICIS</td>\n",
       "      <td>QUEJA</td>\n",
       "      <td>2/1/2017</td>\n",
       "      <td>1:47:51 p.m.</td>\n",
       "      <td>COMUNA 4</td>\n",
       "      <td>BOCA</td>\n",
       "      <td>GARCIA, MARTIN AV.</td>\n",
       "      <td>364.0</td>\n",
       "      <td>-34.6289108066142</td>\n",
       "      <td>-58.3699400129738</td>\n",
       "      <td>147</td>\n",
       "      <td>MASCULINO</td>\n",
       "      <td>ABIERTO</td>\n",
       "    </tr>\n",
       "    <tr>\n",
       "      <th>2</th>\n",
       "      <td>2</td>\n",
       "      <td>201701</td>\n",
       "      <td>MEDIOS DE TRANSPORTE</td>\n",
       "      <td>BICICLETAS</td>\n",
       "      <td>INCONVENIENTES CON ECOBICIS</td>\n",
       "      <td>QUEJA</td>\n",
       "      <td>2/1/2017</td>\n",
       "      <td>2:08:49 p.m.</td>\n",
       "      <td>COMUNA 4</td>\n",
       "      <td>BOCA</td>\n",
       "      <td>GARCIA, MARTIN AV.</td>\n",
       "      <td>364.0</td>\n",
       "      <td>-34.6289108066142</td>\n",
       "      <td>-58.3699400129738</td>\n",
       "      <td>147</td>\n",
       "      <td>MASCULINO</td>\n",
       "      <td>ABIERTO</td>\n",
       "    </tr>\n",
       "    <tr>\n",
       "      <th>3</th>\n",
       "      <td>3</td>\n",
       "      <td>201701</td>\n",
       "      <td>MEDIOS DE TRANSPORTE</td>\n",
       "      <td>BICICLETAS</td>\n",
       "      <td>INCONVENIENTES CON ECOBICIS</td>\n",
       "      <td>QUEJA</td>\n",
       "      <td>3/1/2017</td>\n",
       "      <td>4:50:42 p.m.</td>\n",
       "      <td>COMUNA 14</td>\n",
       "      <td>PALERMO</td>\n",
       "      <td>JUNCAL</td>\n",
       "      <td>3102.0</td>\n",
       "      <td>-34.5860840647047</td>\n",
       "      <td>-58.4084105506486</td>\n",
       "      <td>WEB</td>\n",
       "      <td>FEMENINO</td>\n",
       "      <td>ABIERTO</td>\n",
       "    </tr>\n",
       "    <tr>\n",
       "      <th>4</th>\n",
       "      <td>4</td>\n",
       "      <td>201701</td>\n",
       "      <td>LIMPIEZA Y RECOLECCIÓN</td>\n",
       "      <td>CESTOS Y CONTENEDORES</td>\n",
       "      <td>INSTALACION/REPARACION DE CONTENEDOR</td>\n",
       "      <td>SOLICITUD</td>\n",
       "      <td>3/1/2017</td>\n",
       "      <td>4:54:36 p.m.</td>\n",
       "      <td>COMUNA 4</td>\n",
       "      <td>PARQUE PATRICIOS</td>\n",
       "      <td>GARAY, JUAN DE AV.</td>\n",
       "      <td>2158.0</td>\n",
       "      <td>-34.6275856312034</td>\n",
       "      <td>-58.3934973144262</td>\n",
       "      <td>WEB</td>\n",
       "      <td>MASCULINO</td>\n",
       "      <td>ABIERTO</td>\n",
       "    </tr>\n",
       "  </tbody>\n",
       "</table>\n",
       "</div>"
      ],
      "text/plain": [
       "   Unnamed: 0  PERIODO               CATEGORIA           SUBCATEGORIA  \\\n",
       "0           0   201701        CALLES Y VEREDAS   REPARACION DE VEREDA   \n",
       "1           1   201701    MEDIOS DE TRANSPORTE             BICICLETAS   \n",
       "2           2   201701    MEDIOS DE TRANSPORTE             BICICLETAS   \n",
       "3           3   201701    MEDIOS DE TRANSPORTE             BICICLETAS   \n",
       "4           4   201701  LIMPIEZA Y RECOLECCIÓN  CESTOS Y CONTENEDORES   \n",
       "\n",
       "                               CONCEPTO TIPO_PRESTACION FECHA_INGRESO  \\\n",
       "0                  REPARACION DE VEREDA       SOLICITUD      2/1/2017   \n",
       "1           INCONVENIENTES CON ECOBICIS           QUEJA      2/1/2017   \n",
       "2           INCONVENIENTES CON ECOBICIS           QUEJA      2/1/2017   \n",
       "3           INCONVENIENTES CON ECOBICIS           QUEJA      3/1/2017   \n",
       "4  INSTALACION/REPARACION DE CONTENEDOR       SOLICITUD      3/1/2017   \n",
       "\n",
       "   HORA_INGRESO DOMICILIO_CGPC  DOMICILIO_BARRIO     DOMICILIO_CALLE  \\\n",
       "0  5:48:31 p.m.       COMUNA 5             BOEDO              GIBSON   \n",
       "1  1:47:51 p.m.       COMUNA 4              BOCA  GARCIA, MARTIN AV.   \n",
       "2  2:08:49 p.m.       COMUNA 4              BOCA  GARCIA, MARTIN AV.   \n",
       "3  4:50:42 p.m.      COMUNA 14           PALERMO              JUNCAL   \n",
       "4  4:54:36 p.m.       COMUNA 4  PARQUE PATRICIOS  GARAY, JUAN DE AV.   \n",
       "\n",
       "  DOMICILIO_ALTURA                LAT               LONG CANAL     GENERO  \\\n",
       "0           4192.0   -34.638971681443  -58.4224202457747   WEB   FEMENINO   \n",
       "1            364.0  -34.6289108066142  -58.3699400129738   147  MASCULINO   \n",
       "2            364.0  -34.6289108066142  -58.3699400129738   147  MASCULINO   \n",
       "3           3102.0  -34.5860840647047  -58.4084105506486   WEB   FEMENINO   \n",
       "4           2158.0  -34.6275856312034  -58.3934973144262   WEB  MASCULINO   \n",
       "\n",
       "  ESTADO_DEL_CONTACTO  \n",
       "0             ABIERTO  \n",
       "1             ABIERTO  \n",
       "2             ABIERTO  \n",
       "3             ABIERTO  \n",
       "4             ABIERTO  "
      ]
     },
     "execution_count": 5,
     "metadata": {},
     "output_type": "execute_result"
    }
   ],
   "source": [
    "datasuac.head()"
   ]
  },
  {
   "cell_type": "code",
   "execution_count": 6,
   "metadata": {},
   "outputs": [
    {
     "data": {
      "text/plain": [
       "Unnamed: 0                  0\n",
       "PERIODO                     0\n",
       "CATEGORIA                   0\n",
       "SUBCATEGORIA             8586\n",
       "CONCEPTO                    0\n",
       "TIPO_PRESTACION             0\n",
       "FECHA_INGRESO               0\n",
       "HORA_INGRESO                0\n",
       "DOMICILIO_CGPC              0\n",
       "DOMICILIO_BARRIO            0\n",
       "DOMICILIO_CALLE             0\n",
       "DOMICILIO_ALTURA       109747\n",
       "LAT                         0\n",
       "LONG                        0\n",
       "CANAL                       0\n",
       "GENERO                      6\n",
       "ESTADO_DEL_CONTACTO         0\n",
       "dtype: int64"
      ]
     },
     "execution_count": 6,
     "metadata": {},
     "output_type": "execute_result"
    }
   ],
   "source": [
    "datasuac.isnull().sum()"
   ]
  },
  {
   "cell_type": "code",
   "execution_count": 7,
   "metadata": {},
   "outputs": [],
   "source": [
    "##Elimino NaNs de GENERO\n",
    "datasuac = datasuac.dropna(subset = ['GENERO'])"
   ]
  },
  {
   "cell_type": "code",
   "execution_count": 8,
   "metadata": {},
   "outputs": [],
   "source": [
    "##Elimino todas las filas que tengan GENERO DESCONOCIDO para el análisis\n",
    "datasuac = datasuac[~datasuac.GENERO.str.contains(\"DESCONOCIDO\")]"
   ]
  },
  {
   "cell_type": "code",
   "execution_count": 9,
   "metadata": {},
   "outputs": [
    {
     "data": {
      "text/plain": [
       "array(['FEMENINO', 'MASCULINO'], dtype=object)"
      ]
     },
     "execution_count": 9,
     "metadata": {},
     "output_type": "execute_result"
    }
   ],
   "source": [
    "## Me quedo solo con Masculino y Femenino\n",
    "datasuac['GENERO'].unique()"
   ]
  },
  {
   "cell_type": "code",
   "execution_count": 10,
   "metadata": {},
   "outputs": [],
   "source": [
    "## Elimino columna Unnamed\n",
    "datasuac = datasuac.drop(columns=['Unnamed: 0'])"
   ]
  },
  {
   "cell_type": "code",
   "execution_count": 11,
   "metadata": {},
   "outputs": [],
   "source": [
    "datasuac['CATEGORIA'] = datasuac['CATEGORIA'].replace(\"TRAMITES Y SERVICIOS\",\"TRÁMITES Y SERVICIOS\")"
   ]
  },
  {
   "cell_type": "code",
   "execution_count": 12,
   "metadata": {},
   "outputs": [
    {
     "name": "stdout",
     "output_type": "stream",
     "text": [
      "<class 'pandas.core.series.Series'>\n"
     ]
    }
   ],
   "source": [
    "print(type(datasuac['PERIODO']))"
   ]
  },
  {
   "cell_type": "markdown",
   "metadata": {},
   "source": [
    "## Generamos Data Frame con Dummies para comenzar con el aprendizaje del Modelo"
   ]
  },
  {
   "cell_type": "code",
   "execution_count": 13,
   "metadata": {},
   "outputs": [],
   "source": [
    "suacan = datasuac.iloc[:,[1,4,7,13,14]]"
   ]
  },
  {
   "cell_type": "code",
   "execution_count": 15,
   "metadata": {},
   "outputs": [
    {
     "data": {
      "text/plain": [
       "Index(['CATEGORIA', 'TIPO_PRESTACION', 'DOMICILIO_CGPC', 'CANAL', 'GENERO'], dtype='object')"
      ]
     },
     "execution_count": 15,
     "metadata": {},
     "output_type": "execute_result"
    }
   ],
   "source": [
    "suacan.columns"
   ]
  },
  {
   "cell_type": "code",
   "execution_count": 16,
   "metadata": {},
   "outputs": [
    {
     "data": {
      "text/html": [
       "<div>\n",
       "<style scoped>\n",
       "    .dataframe tbody tr th:only-of-type {\n",
       "        vertical-align: middle;\n",
       "    }\n",
       "\n",
       "    .dataframe tbody tr th {\n",
       "        vertical-align: top;\n",
       "    }\n",
       "\n",
       "    .dataframe thead th {\n",
       "        text-align: right;\n",
       "    }\n",
       "</style>\n",
       "<table border=\"1\" class=\"dataframe\">\n",
       "  <thead>\n",
       "    <tr style=\"text-align: right;\">\n",
       "      <th></th>\n",
       "      <th>ALUMBRADO</th>\n",
       "      <th>ARBOLADO Y ESPACIOS VERDES</th>\n",
       "      <th>CALLES Y VEREDAS</th>\n",
       "      <th>CEMENTERIOS</th>\n",
       "      <th>CONTROL EDILICIO, OBRAS Y CATASTRO</th>\n",
       "      <th>FISCALIZACIÓN ACTIVIDADES COMERCIALES</th>\n",
       "      <th>LIMPIEZA Y RECOLECCIÓN</th>\n",
       "      <th>MEDIO AMBIENTE Y RECICLADO</th>\n",
       "      <th>MEDIOS DE TRANSPORTE</th>\n",
       "      <th>ORDENAMIENTO DEL ESPACIO PÚBLICO</th>\n",
       "      <th>OTRAS</th>\n",
       "      <th>PLUVIALES</th>\n",
       "      <th>RECICLADO Y PROTECCIÓN AMBIENTAL</th>\n",
       "      <th>SALUD Y SERVICIOS SOCIALES</th>\n",
       "      <th>SEGURIDAD</th>\n",
       "      <th>SUGERENCIAS Y LIBRO DE QUEJAS</th>\n",
       "      <th>TRÁMITES Y SERVICIOS</th>\n",
       "      <th>TRÁNSITO</th>\n",
       "    </tr>\n",
       "  </thead>\n",
       "  <tbody>\n",
       "    <tr>\n",
       "      <th>0</th>\n",
       "      <td>0</td>\n",
       "      <td>0</td>\n",
       "      <td>1</td>\n",
       "      <td>0</td>\n",
       "      <td>0</td>\n",
       "      <td>0</td>\n",
       "      <td>0</td>\n",
       "      <td>0</td>\n",
       "      <td>0</td>\n",
       "      <td>0</td>\n",
       "      <td>0</td>\n",
       "      <td>0</td>\n",
       "      <td>0</td>\n",
       "      <td>0</td>\n",
       "      <td>0</td>\n",
       "      <td>0</td>\n",
       "      <td>0</td>\n",
       "      <td>0</td>\n",
       "    </tr>\n",
       "    <tr>\n",
       "      <th>1</th>\n",
       "      <td>0</td>\n",
       "      <td>0</td>\n",
       "      <td>0</td>\n",
       "      <td>0</td>\n",
       "      <td>0</td>\n",
       "      <td>0</td>\n",
       "      <td>0</td>\n",
       "      <td>0</td>\n",
       "      <td>1</td>\n",
       "      <td>0</td>\n",
       "      <td>0</td>\n",
       "      <td>0</td>\n",
       "      <td>0</td>\n",
       "      <td>0</td>\n",
       "      <td>0</td>\n",
       "      <td>0</td>\n",
       "      <td>0</td>\n",
       "      <td>0</td>\n",
       "    </tr>\n",
       "    <tr>\n",
       "      <th>2</th>\n",
       "      <td>0</td>\n",
       "      <td>0</td>\n",
       "      <td>0</td>\n",
       "      <td>0</td>\n",
       "      <td>0</td>\n",
       "      <td>0</td>\n",
       "      <td>0</td>\n",
       "      <td>0</td>\n",
       "      <td>1</td>\n",
       "      <td>0</td>\n",
       "      <td>0</td>\n",
       "      <td>0</td>\n",
       "      <td>0</td>\n",
       "      <td>0</td>\n",
       "      <td>0</td>\n",
       "      <td>0</td>\n",
       "      <td>0</td>\n",
       "      <td>0</td>\n",
       "    </tr>\n",
       "  </tbody>\n",
       "</table>\n",
       "</div>"
      ],
      "text/plain": [
       "   ALUMBRADO  ARBOLADO Y ESPACIOS VERDES  CALLES Y VEREDAS  CEMENTERIOS  \\\n",
       "0          0                           0                 1            0   \n",
       "1          0                           0                 0            0   \n",
       "2          0                           0                 0            0   \n",
       "\n",
       "   CONTROL EDILICIO, OBRAS Y CATASTRO  FISCALIZACIÓN ACTIVIDADES COMERCIALES  \\\n",
       "0                                   0                                      0   \n",
       "1                                   0                                      0   \n",
       "2                                   0                                      0   \n",
       "\n",
       "   LIMPIEZA Y RECOLECCIÓN  MEDIO AMBIENTE Y RECICLADO  MEDIOS DE TRANSPORTE  \\\n",
       "0                       0                           0                     0   \n",
       "1                       0                           0                     1   \n",
       "2                       0                           0                     1   \n",
       "\n",
       "   ORDENAMIENTO DEL ESPACIO PÚBLICO  OTRAS  PLUVIALES  \\\n",
       "0                                 0      0          0   \n",
       "1                                 0      0          0   \n",
       "2                                 0      0          0   \n",
       "\n",
       "   RECICLADO Y PROTECCIÓN AMBIENTAL  SALUD Y SERVICIOS SOCIALES  SEGURIDAD  \\\n",
       "0                                 0                           0          0   \n",
       "1                                 0                           0          0   \n",
       "2                                 0                           0          0   \n",
       "\n",
       "   SUGERENCIAS Y LIBRO DE QUEJAS  TRÁMITES Y SERVICIOS  TRÁNSITO  \n",
       "0                              0                     0         0  \n",
       "1                              0                     0         0  \n",
       "2                              0                     0         0  "
      ]
     },
     "execution_count": 16,
     "metadata": {},
     "output_type": "execute_result"
    }
   ],
   "source": [
    "# Dummies para la feature \"CATEGORIA\"\n",
    "categoria_dummie = pd.get_dummies(suacan.CATEGORIA)\n",
    "categoria_dummie.head(3)"
   ]
  },
  {
   "cell_type": "code",
   "execution_count": 17,
   "metadata": {},
   "outputs": [
    {
     "data": {
      "text/html": [
       "<div>\n",
       "<style scoped>\n",
       "    .dataframe tbody tr th:only-of-type {\n",
       "        vertical-align: middle;\n",
       "    }\n",
       "\n",
       "    .dataframe tbody tr th {\n",
       "        vertical-align: top;\n",
       "    }\n",
       "\n",
       "    .dataframe thead th {\n",
       "        text-align: right;\n",
       "    }\n",
       "</style>\n",
       "<table border=\"1\" class=\"dataframe\">\n",
       "  <thead>\n",
       "    <tr style=\"text-align: right;\">\n",
       "      <th></th>\n",
       "      <th>DENUNCIA</th>\n",
       "      <th>QUEJA</th>\n",
       "      <th>REPORTE</th>\n",
       "      <th>SERVICIO</th>\n",
       "      <th>SOLICITUD</th>\n",
       "    </tr>\n",
       "  </thead>\n",
       "  <tbody>\n",
       "    <tr>\n",
       "      <th>0</th>\n",
       "      <td>0</td>\n",
       "      <td>0</td>\n",
       "      <td>0</td>\n",
       "      <td>0</td>\n",
       "      <td>1</td>\n",
       "    </tr>\n",
       "    <tr>\n",
       "      <th>1</th>\n",
       "      <td>0</td>\n",
       "      <td>1</td>\n",
       "      <td>0</td>\n",
       "      <td>0</td>\n",
       "      <td>0</td>\n",
       "    </tr>\n",
       "    <tr>\n",
       "      <th>2</th>\n",
       "      <td>0</td>\n",
       "      <td>1</td>\n",
       "      <td>0</td>\n",
       "      <td>0</td>\n",
       "      <td>0</td>\n",
       "    </tr>\n",
       "  </tbody>\n",
       "</table>\n",
       "</div>"
      ],
      "text/plain": [
       "   DENUNCIA  QUEJA  REPORTE  SERVICIO  SOLICITUD\n",
       "0         0      0        0         0          1\n",
       "1         0      1        0         0          0\n",
       "2         0      1        0         0          0"
      ]
     },
     "execution_count": 17,
     "metadata": {},
     "output_type": "execute_result"
    }
   ],
   "source": [
    "# Dummies para la feature \"TIPO_PRESTACION\"\n",
    "tipo_de_prestacion_dummie = pd.get_dummies(suacan.TIPO_PRESTACION)\n",
    "tipo_de_prestacion_dummie.head(3)"
   ]
  },
  {
   "cell_type": "code",
   "execution_count": 18,
   "metadata": {},
   "outputs": [
    {
     "data": {
      "text/html": [
       "<div>\n",
       "<style scoped>\n",
       "    .dataframe tbody tr th:only-of-type {\n",
       "        vertical-align: middle;\n",
       "    }\n",
       "\n",
       "    .dataframe tbody tr th {\n",
       "        vertical-align: top;\n",
       "    }\n",
       "\n",
       "    .dataframe thead th {\n",
       "        text-align: right;\n",
       "    }\n",
       "</style>\n",
       "<table border=\"1\" class=\"dataframe\">\n",
       "  <thead>\n",
       "    <tr style=\"text-align: right;\">\n",
       "      <th></th>\n",
       "      <th>FEMENINO</th>\n",
       "      <th>MASCULINO</th>\n",
       "    </tr>\n",
       "  </thead>\n",
       "  <tbody>\n",
       "    <tr>\n",
       "      <th>0</th>\n",
       "      <td>1</td>\n",
       "      <td>0</td>\n",
       "    </tr>\n",
       "    <tr>\n",
       "      <th>1</th>\n",
       "      <td>0</td>\n",
       "      <td>1</td>\n",
       "    </tr>\n",
       "    <tr>\n",
       "      <th>2</th>\n",
       "      <td>0</td>\n",
       "      <td>1</td>\n",
       "    </tr>\n",
       "  </tbody>\n",
       "</table>\n",
       "</div>"
      ],
      "text/plain": [
       "   FEMENINO  MASCULINO\n",
       "0         1          0\n",
       "1         0          1\n",
       "2         0          1"
      ]
     },
     "execution_count": 18,
     "metadata": {},
     "output_type": "execute_result"
    }
   ],
   "source": [
    "# Dummies para la feature \"GENERO\"\n",
    "genero_dummie = pd.get_dummies(suacan.GENERO)\n",
    "genero_dummie.head(3)"
   ]
  },
  {
   "cell_type": "code",
   "execution_count": 19,
   "metadata": {},
   "outputs": [
    {
     "data": {
      "text/html": [
       "<div>\n",
       "<style scoped>\n",
       "    .dataframe tbody tr th:only-of-type {\n",
       "        vertical-align: middle;\n",
       "    }\n",
       "\n",
       "    .dataframe tbody tr th {\n",
       "        vertical-align: top;\n",
       "    }\n",
       "\n",
       "    .dataframe thead th {\n",
       "        text-align: right;\n",
       "    }\n",
       "</style>\n",
       "<table border=\"1\" class=\"dataframe\">\n",
       "  <thead>\n",
       "    <tr style=\"text-align: right;\">\n",
       "      <th></th>\n",
       "      <th>COMUNA 1</th>\n",
       "      <th>COMUNA 10</th>\n",
       "      <th>COMUNA 11</th>\n",
       "      <th>COMUNA 12</th>\n",
       "      <th>COMUNA 13</th>\n",
       "      <th>COMUNA 14</th>\n",
       "      <th>COMUNA 15</th>\n",
       "      <th>COMUNA 2</th>\n",
       "      <th>COMUNA 3</th>\n",
       "      <th>COMUNA 4</th>\n",
       "      <th>COMUNA 5</th>\n",
       "      <th>COMUNA 6</th>\n",
       "      <th>COMUNA 7</th>\n",
       "      <th>COMUNA 8</th>\n",
       "      <th>COMUNA 9</th>\n",
       "    </tr>\n",
       "  </thead>\n",
       "  <tbody>\n",
       "    <tr>\n",
       "      <th>0</th>\n",
       "      <td>0</td>\n",
       "      <td>0</td>\n",
       "      <td>0</td>\n",
       "      <td>0</td>\n",
       "      <td>0</td>\n",
       "      <td>0</td>\n",
       "      <td>0</td>\n",
       "      <td>0</td>\n",
       "      <td>0</td>\n",
       "      <td>0</td>\n",
       "      <td>1</td>\n",
       "      <td>0</td>\n",
       "      <td>0</td>\n",
       "      <td>0</td>\n",
       "      <td>0</td>\n",
       "    </tr>\n",
       "    <tr>\n",
       "      <th>1</th>\n",
       "      <td>0</td>\n",
       "      <td>0</td>\n",
       "      <td>0</td>\n",
       "      <td>0</td>\n",
       "      <td>0</td>\n",
       "      <td>0</td>\n",
       "      <td>0</td>\n",
       "      <td>0</td>\n",
       "      <td>0</td>\n",
       "      <td>1</td>\n",
       "      <td>0</td>\n",
       "      <td>0</td>\n",
       "      <td>0</td>\n",
       "      <td>0</td>\n",
       "      <td>0</td>\n",
       "    </tr>\n",
       "    <tr>\n",
       "      <th>2</th>\n",
       "      <td>0</td>\n",
       "      <td>0</td>\n",
       "      <td>0</td>\n",
       "      <td>0</td>\n",
       "      <td>0</td>\n",
       "      <td>0</td>\n",
       "      <td>0</td>\n",
       "      <td>0</td>\n",
       "      <td>0</td>\n",
       "      <td>1</td>\n",
       "      <td>0</td>\n",
       "      <td>0</td>\n",
       "      <td>0</td>\n",
       "      <td>0</td>\n",
       "      <td>0</td>\n",
       "    </tr>\n",
       "  </tbody>\n",
       "</table>\n",
       "</div>"
      ],
      "text/plain": [
       "   COMUNA 1  COMUNA 10  COMUNA 11  COMUNA 12  COMUNA 13  COMUNA 14  COMUNA 15  \\\n",
       "0         0          0          0          0          0          0          0   \n",
       "1         0          0          0          0          0          0          0   \n",
       "2         0          0          0          0          0          0          0   \n",
       "\n",
       "   COMUNA 2  COMUNA 3  COMUNA 4  COMUNA 5  COMUNA 6  COMUNA 7  COMUNA 8  \\\n",
       "0         0         0         0         1         0         0         0   \n",
       "1         0         0         1         0         0         0         0   \n",
       "2         0         0         1         0         0         0         0   \n",
       "\n",
       "   COMUNA 9  \n",
       "0         0  \n",
       "1         0  \n",
       "2         0  "
      ]
     },
     "execution_count": 19,
     "metadata": {},
     "output_type": "execute_result"
    }
   ],
   "source": [
    "# Dummies para la feature \"DOMICILIO_CGPC\"\n",
    "comuna_dummie = pd.get_dummies(suacan.DOMICILIO_CGPC)\n",
    "comuna_dummie.head(3)"
   ]
  },
  {
   "cell_type": "code",
   "execution_count": 20,
   "metadata": {},
   "outputs": [
    {
     "data": {
      "text/html": [
       "<div>\n",
       "<style scoped>\n",
       "    .dataframe tbody tr th:only-of-type {\n",
       "        vertical-align: middle;\n",
       "    }\n",
       "\n",
       "    .dataframe tbody tr th {\n",
       "        vertical-align: top;\n",
       "    }\n",
       "\n",
       "    .dataframe thead th {\n",
       "        text-align: right;\n",
       "    }\n",
       "</style>\n",
       "<table border=\"1\" class=\"dataframe\">\n",
       "  <thead>\n",
       "    <tr style=\"text-align: right;\">\n",
       "      <th></th>\n",
       "      <th>CATEGORIA</th>\n",
       "      <th>TIPO_PRESTACION</th>\n",
       "      <th>DOMICILIO_CGPC</th>\n",
       "      <th>CANAL</th>\n",
       "      <th>GENERO</th>\n",
       "      <th>ALUMBRADO</th>\n",
       "      <th>ARBOLADO Y ESPACIOS VERDES</th>\n",
       "      <th>CALLES Y VEREDAS</th>\n",
       "      <th>CEMENTERIOS</th>\n",
       "      <th>CONTROL EDILICIO, OBRAS Y CATASTRO</th>\n",
       "      <th>...</th>\n",
       "      <th>COMUNA 14</th>\n",
       "      <th>COMUNA 15</th>\n",
       "      <th>COMUNA 2</th>\n",
       "      <th>COMUNA 3</th>\n",
       "      <th>COMUNA 4</th>\n",
       "      <th>COMUNA 5</th>\n",
       "      <th>COMUNA 6</th>\n",
       "      <th>COMUNA 7</th>\n",
       "      <th>COMUNA 8</th>\n",
       "      <th>COMUNA 9</th>\n",
       "    </tr>\n",
       "  </thead>\n",
       "  <tbody>\n",
       "    <tr>\n",
       "      <th>0</th>\n",
       "      <td>CALLES Y VEREDAS</td>\n",
       "      <td>SOLICITUD</td>\n",
       "      <td>COMUNA 5</td>\n",
       "      <td>WEB</td>\n",
       "      <td>FEMENINO</td>\n",
       "      <td>0</td>\n",
       "      <td>0</td>\n",
       "      <td>1</td>\n",
       "      <td>0</td>\n",
       "      <td>0</td>\n",
       "      <td>...</td>\n",
       "      <td>0</td>\n",
       "      <td>0</td>\n",
       "      <td>0</td>\n",
       "      <td>0</td>\n",
       "      <td>0</td>\n",
       "      <td>1</td>\n",
       "      <td>0</td>\n",
       "      <td>0</td>\n",
       "      <td>0</td>\n",
       "      <td>0</td>\n",
       "    </tr>\n",
       "    <tr>\n",
       "      <th>1</th>\n",
       "      <td>MEDIOS DE TRANSPORTE</td>\n",
       "      <td>QUEJA</td>\n",
       "      <td>COMUNA 4</td>\n",
       "      <td>147</td>\n",
       "      <td>MASCULINO</td>\n",
       "      <td>0</td>\n",
       "      <td>0</td>\n",
       "      <td>0</td>\n",
       "      <td>0</td>\n",
       "      <td>0</td>\n",
       "      <td>...</td>\n",
       "      <td>0</td>\n",
       "      <td>0</td>\n",
       "      <td>0</td>\n",
       "      <td>0</td>\n",
       "      <td>1</td>\n",
       "      <td>0</td>\n",
       "      <td>0</td>\n",
       "      <td>0</td>\n",
       "      <td>0</td>\n",
       "      <td>0</td>\n",
       "    </tr>\n",
       "    <tr>\n",
       "      <th>2</th>\n",
       "      <td>MEDIOS DE TRANSPORTE</td>\n",
       "      <td>QUEJA</td>\n",
       "      <td>COMUNA 4</td>\n",
       "      <td>147</td>\n",
       "      <td>MASCULINO</td>\n",
       "      <td>0</td>\n",
       "      <td>0</td>\n",
       "      <td>0</td>\n",
       "      <td>0</td>\n",
       "      <td>0</td>\n",
       "      <td>...</td>\n",
       "      <td>0</td>\n",
       "      <td>0</td>\n",
       "      <td>0</td>\n",
       "      <td>0</td>\n",
       "      <td>1</td>\n",
       "      <td>0</td>\n",
       "      <td>0</td>\n",
       "      <td>0</td>\n",
       "      <td>0</td>\n",
       "      <td>0</td>\n",
       "    </tr>\n",
       "    <tr>\n",
       "      <th>3</th>\n",
       "      <td>MEDIOS DE TRANSPORTE</td>\n",
       "      <td>QUEJA</td>\n",
       "      <td>COMUNA 14</td>\n",
       "      <td>WEB</td>\n",
       "      <td>FEMENINO</td>\n",
       "      <td>0</td>\n",
       "      <td>0</td>\n",
       "      <td>0</td>\n",
       "      <td>0</td>\n",
       "      <td>0</td>\n",
       "      <td>...</td>\n",
       "      <td>1</td>\n",
       "      <td>0</td>\n",
       "      <td>0</td>\n",
       "      <td>0</td>\n",
       "      <td>0</td>\n",
       "      <td>0</td>\n",
       "      <td>0</td>\n",
       "      <td>0</td>\n",
       "      <td>0</td>\n",
       "      <td>0</td>\n",
       "    </tr>\n",
       "    <tr>\n",
       "      <th>4</th>\n",
       "      <td>LIMPIEZA Y RECOLECCIÓN</td>\n",
       "      <td>SOLICITUD</td>\n",
       "      <td>COMUNA 4</td>\n",
       "      <td>WEB</td>\n",
       "      <td>MASCULINO</td>\n",
       "      <td>0</td>\n",
       "      <td>0</td>\n",
       "      <td>0</td>\n",
       "      <td>0</td>\n",
       "      <td>0</td>\n",
       "      <td>...</td>\n",
       "      <td>0</td>\n",
       "      <td>0</td>\n",
       "      <td>0</td>\n",
       "      <td>0</td>\n",
       "      <td>1</td>\n",
       "      <td>0</td>\n",
       "      <td>0</td>\n",
       "      <td>0</td>\n",
       "      <td>0</td>\n",
       "      <td>0</td>\n",
       "    </tr>\n",
       "    <tr>\n",
       "      <th>5</th>\n",
       "      <td>TRÁNSITO</td>\n",
       "      <td>DENUNCIA</td>\n",
       "      <td>COMUNA 10</td>\n",
       "      <td>APP</td>\n",
       "      <td>MASCULINO</td>\n",
       "      <td>0</td>\n",
       "      <td>0</td>\n",
       "      <td>0</td>\n",
       "      <td>0</td>\n",
       "      <td>0</td>\n",
       "      <td>...</td>\n",
       "      <td>0</td>\n",
       "      <td>0</td>\n",
       "      <td>0</td>\n",
       "      <td>0</td>\n",
       "      <td>0</td>\n",
       "      <td>0</td>\n",
       "      <td>0</td>\n",
       "      <td>0</td>\n",
       "      <td>0</td>\n",
       "      <td>0</td>\n",
       "    </tr>\n",
       "    <tr>\n",
       "      <th>6</th>\n",
       "      <td>TRÁNSITO</td>\n",
       "      <td>DENUNCIA</td>\n",
       "      <td>COMUNA 13</td>\n",
       "      <td>APP</td>\n",
       "      <td>MASCULINO</td>\n",
       "      <td>0</td>\n",
       "      <td>0</td>\n",
       "      <td>0</td>\n",
       "      <td>0</td>\n",
       "      <td>0</td>\n",
       "      <td>...</td>\n",
       "      <td>0</td>\n",
       "      <td>0</td>\n",
       "      <td>0</td>\n",
       "      <td>0</td>\n",
       "      <td>0</td>\n",
       "      <td>0</td>\n",
       "      <td>0</td>\n",
       "      <td>0</td>\n",
       "      <td>0</td>\n",
       "      <td>0</td>\n",
       "    </tr>\n",
       "    <tr>\n",
       "      <th>7</th>\n",
       "      <td>TRÁNSITO</td>\n",
       "      <td>DENUNCIA</td>\n",
       "      <td>COMUNA 15</td>\n",
       "      <td>WEB</td>\n",
       "      <td>MASCULINO</td>\n",
       "      <td>0</td>\n",
       "      <td>0</td>\n",
       "      <td>0</td>\n",
       "      <td>0</td>\n",
       "      <td>0</td>\n",
       "      <td>...</td>\n",
       "      <td>0</td>\n",
       "      <td>1</td>\n",
       "      <td>0</td>\n",
       "      <td>0</td>\n",
       "      <td>0</td>\n",
       "      <td>0</td>\n",
       "      <td>0</td>\n",
       "      <td>0</td>\n",
       "      <td>0</td>\n",
       "      <td>0</td>\n",
       "    </tr>\n",
       "    <tr>\n",
       "      <th>8</th>\n",
       "      <td>TRÁNSITO</td>\n",
       "      <td>DENUNCIA</td>\n",
       "      <td>COMUNA 13</td>\n",
       "      <td>WEB</td>\n",
       "      <td>MASCULINO</td>\n",
       "      <td>0</td>\n",
       "      <td>0</td>\n",
       "      <td>0</td>\n",
       "      <td>0</td>\n",
       "      <td>0</td>\n",
       "      <td>...</td>\n",
       "      <td>0</td>\n",
       "      <td>0</td>\n",
       "      <td>0</td>\n",
       "      <td>0</td>\n",
       "      <td>0</td>\n",
       "      <td>0</td>\n",
       "      <td>0</td>\n",
       "      <td>0</td>\n",
       "      <td>0</td>\n",
       "      <td>0</td>\n",
       "    </tr>\n",
       "    <tr>\n",
       "      <th>9</th>\n",
       "      <td>TRÁNSITO</td>\n",
       "      <td>DENUNCIA</td>\n",
       "      <td>COMUNA 13</td>\n",
       "      <td>APP</td>\n",
       "      <td>MASCULINO</td>\n",
       "      <td>0</td>\n",
       "      <td>0</td>\n",
       "      <td>0</td>\n",
       "      <td>0</td>\n",
       "      <td>0</td>\n",
       "      <td>...</td>\n",
       "      <td>0</td>\n",
       "      <td>0</td>\n",
       "      <td>0</td>\n",
       "      <td>0</td>\n",
       "      <td>0</td>\n",
       "      <td>0</td>\n",
       "      <td>0</td>\n",
       "      <td>0</td>\n",
       "      <td>0</td>\n",
       "      <td>0</td>\n",
       "    </tr>\n",
       "  </tbody>\n",
       "</table>\n",
       "<p>10 rows × 45 columns</p>\n",
       "</div>"
      ],
      "text/plain": [
       "                CATEGORIA TIPO_PRESTACION DOMICILIO_CGPC CANAL     GENERO  \\\n",
       "0        CALLES Y VEREDAS       SOLICITUD       COMUNA 5   WEB   FEMENINO   \n",
       "1    MEDIOS DE TRANSPORTE           QUEJA       COMUNA 4   147  MASCULINO   \n",
       "2    MEDIOS DE TRANSPORTE           QUEJA       COMUNA 4   147  MASCULINO   \n",
       "3    MEDIOS DE TRANSPORTE           QUEJA      COMUNA 14   WEB   FEMENINO   \n",
       "4  LIMPIEZA Y RECOLECCIÓN       SOLICITUD       COMUNA 4   WEB  MASCULINO   \n",
       "5                TRÁNSITO        DENUNCIA      COMUNA 10   APP  MASCULINO   \n",
       "6                TRÁNSITO        DENUNCIA      COMUNA 13   APP  MASCULINO   \n",
       "7                TRÁNSITO        DENUNCIA      COMUNA 15   WEB  MASCULINO   \n",
       "8                TRÁNSITO        DENUNCIA      COMUNA 13   WEB  MASCULINO   \n",
       "9                TRÁNSITO        DENUNCIA      COMUNA 13   APP  MASCULINO   \n",
       "\n",
       "   ALUMBRADO  ARBOLADO Y ESPACIOS VERDES  CALLES Y VEREDAS  CEMENTERIOS  \\\n",
       "0          0                           0                 1            0   \n",
       "1          0                           0                 0            0   \n",
       "2          0                           0                 0            0   \n",
       "3          0                           0                 0            0   \n",
       "4          0                           0                 0            0   \n",
       "5          0                           0                 0            0   \n",
       "6          0                           0                 0            0   \n",
       "7          0                           0                 0            0   \n",
       "8          0                           0                 0            0   \n",
       "9          0                           0                 0            0   \n",
       "\n",
       "   CONTROL EDILICIO, OBRAS Y CATASTRO    ...     COMUNA 14  COMUNA 15  \\\n",
       "0                                   0    ...             0          0   \n",
       "1                                   0    ...             0          0   \n",
       "2                                   0    ...             0          0   \n",
       "3                                   0    ...             1          0   \n",
       "4                                   0    ...             0          0   \n",
       "5                                   0    ...             0          0   \n",
       "6                                   0    ...             0          0   \n",
       "7                                   0    ...             0          1   \n",
       "8                                   0    ...             0          0   \n",
       "9                                   0    ...             0          0   \n",
       "\n",
       "   COMUNA 2  COMUNA 3  COMUNA 4  COMUNA 5  COMUNA 6  COMUNA 7  COMUNA 8  \\\n",
       "0         0         0         0         1         0         0         0   \n",
       "1         0         0         1         0         0         0         0   \n",
       "2         0         0         1         0         0         0         0   \n",
       "3         0         0         0         0         0         0         0   \n",
       "4         0         0         1         0         0         0         0   \n",
       "5         0         0         0         0         0         0         0   \n",
       "6         0         0         0         0         0         0         0   \n",
       "7         0         0         0         0         0         0         0   \n",
       "8         0         0         0         0         0         0         0   \n",
       "9         0         0         0         0         0         0         0   \n",
       "\n",
       "   COMUNA 9  \n",
       "0         0  \n",
       "1         0  \n",
       "2         0  \n",
       "3         0  \n",
       "4         0  \n",
       "5         0  \n",
       "6         0  \n",
       "7         0  \n",
       "8         0  \n",
       "9         0  \n",
       "\n",
       "[10 rows x 45 columns]"
      ]
     },
     "execution_count": 20,
     "metadata": {},
     "output_type": "execute_result"
    }
   ],
   "source": [
    "## Utilizo un JOIN para unir las dummies a mi tabla inicial\n",
    "suacan = suacan.join([categoria_dummie, tipo_de_prestacion_dummie, genero_dummie, comuna_dummie])\n",
    "suacan.head(10)"
   ]
  },
  {
   "cell_type": "code",
   "execution_count": 21,
   "metadata": {},
   "outputs": [],
   "source": [
    "## Guardo variable para posterior Test\n",
    "suacanprueba = suacan"
   ]
  },
  {
   "cell_type": "code",
   "execution_count": 22,
   "metadata": {},
   "outputs": [],
   "source": [
    "## Filtro mi Data para poder correr el modelo en tiempos lógicos\n",
    "suacan = suacan.loc[datasuac['FECHA_INGRESO'].str.contains(\"1/2017\")]"
   ]
  },
  {
   "cell_type": "code",
   "execution_count": 23,
   "metadata": {},
   "outputs": [],
   "source": [
    "suacany = suacan.iloc[:,[3]]"
   ]
  },
  {
   "cell_type": "code",
   "execution_count": 24,
   "metadata": {},
   "outputs": [
    {
     "data": {
      "text/html": [
       "<div>\n",
       "<style scoped>\n",
       "    .dataframe tbody tr th:only-of-type {\n",
       "        vertical-align: middle;\n",
       "    }\n",
       "\n",
       "    .dataframe tbody tr th {\n",
       "        vertical-align: top;\n",
       "    }\n",
       "\n",
       "    .dataframe thead th {\n",
       "        text-align: right;\n",
       "    }\n",
       "</style>\n",
       "<table border=\"1\" class=\"dataframe\">\n",
       "  <thead>\n",
       "    <tr style=\"text-align: right;\">\n",
       "      <th></th>\n",
       "      <th>CANAL</th>\n",
       "    </tr>\n",
       "  </thead>\n",
       "  <tbody>\n",
       "    <tr>\n",
       "      <th>0</th>\n",
       "      <td>WEB</td>\n",
       "    </tr>\n",
       "    <tr>\n",
       "      <th>1</th>\n",
       "      <td>147</td>\n",
       "    </tr>\n",
       "    <tr>\n",
       "      <th>2</th>\n",
       "      <td>147</td>\n",
       "    </tr>\n",
       "    <tr>\n",
       "      <th>3</th>\n",
       "      <td>WEB</td>\n",
       "    </tr>\n",
       "    <tr>\n",
       "      <th>4</th>\n",
       "      <td>WEB</td>\n",
       "    </tr>\n",
       "  </tbody>\n",
       "</table>\n",
       "</div>"
      ],
      "text/plain": [
       "  CANAL\n",
       "0   WEB\n",
       "1   147\n",
       "2   147\n",
       "3   WEB\n",
       "4   WEB"
      ]
     },
     "execution_count": 24,
     "metadata": {},
     "output_type": "execute_result"
    }
   ],
   "source": [
    "suacany.head()"
   ]
  },
  {
   "cell_type": "code",
   "execution_count": 25,
   "metadata": {},
   "outputs": [],
   "source": [
    "## Elimino columnas categoricas que no me sirven para entrenar el modelo\n",
    "suacan = suacan.drop(['CATEGORIA', 'TIPO_PRESTACION', 'DOMICILIO_CGPC','GENERO','CANAL'], axis=1)"
   ]
  },
  {
   "cell_type": "code",
   "execution_count": 26,
   "metadata": {},
   "outputs": [
    {
     "data": {
      "text/plain": [
       "(120398, 40)"
      ]
     },
     "execution_count": 26,
     "metadata": {},
     "output_type": "execute_result"
    }
   ],
   "source": [
    "np.shape(suacan)"
   ]
  },
  {
   "cell_type": "code",
   "execution_count": 27,
   "metadata": {},
   "outputs": [
    {
     "data": {
      "text/plain": [
       "Index(['ALUMBRADO', 'ARBOLADO Y ESPACIOS VERDES', 'CALLES Y VEREDAS',\n",
       "       'CEMENTERIOS', 'CONTROL EDILICIO, OBRAS Y CATASTRO',\n",
       "       'FISCALIZACIÓN ACTIVIDADES COMERCIALES', 'LIMPIEZA Y RECOLECCIÓN',\n",
       "       'MEDIO AMBIENTE Y RECICLADO', 'MEDIOS DE TRANSPORTE',\n",
       "       'ORDENAMIENTO DEL ESPACIO PÚBLICO', 'OTRAS', 'PLUVIALES',\n",
       "       'RECICLADO Y PROTECCIÓN AMBIENTAL', 'SALUD Y SERVICIOS SOCIALES',\n",
       "       'SEGURIDAD', 'SUGERENCIAS Y LIBRO DE QUEJAS', 'TRÁMITES Y SERVICIOS',\n",
       "       'TRÁNSITO', 'DENUNCIA', 'QUEJA', 'REPORTE', 'SERVICIO', 'SOLICITUD',\n",
       "       'FEMENINO', 'MASCULINO', 'COMUNA 1', 'COMUNA 10', 'COMUNA 11',\n",
       "       'COMUNA 12', 'COMUNA 13', 'COMUNA 14', 'COMUNA 15', 'COMUNA 2',\n",
       "       'COMUNA 3', 'COMUNA 4', 'COMUNA 5', 'COMUNA 6', 'COMUNA 7', 'COMUNA 8',\n",
       "       'COMUNA 9'],\n",
       "      dtype='object')"
      ]
     },
     "execution_count": 27,
     "metadata": {},
     "output_type": "execute_result"
    }
   ],
   "source": [
    "suacan.columns"
   ]
  },
  {
   "cell_type": "code",
   "execution_count": 28,
   "metadata": {},
   "outputs": [
    {
     "data": {
      "text/html": [
       "<div>\n",
       "<style scoped>\n",
       "    .dataframe tbody tr th:only-of-type {\n",
       "        vertical-align: middle;\n",
       "    }\n",
       "\n",
       "    .dataframe tbody tr th {\n",
       "        vertical-align: top;\n",
       "    }\n",
       "\n",
       "    .dataframe thead th {\n",
       "        text-align: right;\n",
       "    }\n",
       "</style>\n",
       "<table border=\"1\" class=\"dataframe\">\n",
       "  <thead>\n",
       "    <tr style=\"text-align: right;\">\n",
       "      <th></th>\n",
       "      <th>ALUMBRADO</th>\n",
       "      <th>ARBOLADO Y ESPACIOS VERDES</th>\n",
       "      <th>CALLES Y VEREDAS</th>\n",
       "      <th>CEMENTERIOS</th>\n",
       "      <th>CONTROL EDILICIO, OBRAS Y CATASTRO</th>\n",
       "      <th>FISCALIZACIÓN ACTIVIDADES COMERCIALES</th>\n",
       "      <th>LIMPIEZA Y RECOLECCIÓN</th>\n",
       "      <th>MEDIO AMBIENTE Y RECICLADO</th>\n",
       "      <th>MEDIOS DE TRANSPORTE</th>\n",
       "      <th>ORDENAMIENTO DEL ESPACIO PÚBLICO</th>\n",
       "      <th>...</th>\n",
       "      <th>COMUNA 14</th>\n",
       "      <th>COMUNA 15</th>\n",
       "      <th>COMUNA 2</th>\n",
       "      <th>COMUNA 3</th>\n",
       "      <th>COMUNA 4</th>\n",
       "      <th>COMUNA 5</th>\n",
       "      <th>COMUNA 6</th>\n",
       "      <th>COMUNA 7</th>\n",
       "      <th>COMUNA 8</th>\n",
       "      <th>COMUNA 9</th>\n",
       "    </tr>\n",
       "  </thead>\n",
       "  <tbody>\n",
       "    <tr>\n",
       "      <th>0</th>\n",
       "      <td>0</td>\n",
       "      <td>0</td>\n",
       "      <td>1</td>\n",
       "      <td>0</td>\n",
       "      <td>0</td>\n",
       "      <td>0</td>\n",
       "      <td>0</td>\n",
       "      <td>0</td>\n",
       "      <td>0</td>\n",
       "      <td>0</td>\n",
       "      <td>...</td>\n",
       "      <td>0</td>\n",
       "      <td>0</td>\n",
       "      <td>0</td>\n",
       "      <td>0</td>\n",
       "      <td>0</td>\n",
       "      <td>1</td>\n",
       "      <td>0</td>\n",
       "      <td>0</td>\n",
       "      <td>0</td>\n",
       "      <td>0</td>\n",
       "    </tr>\n",
       "    <tr>\n",
       "      <th>1</th>\n",
       "      <td>0</td>\n",
       "      <td>0</td>\n",
       "      <td>0</td>\n",
       "      <td>0</td>\n",
       "      <td>0</td>\n",
       "      <td>0</td>\n",
       "      <td>0</td>\n",
       "      <td>0</td>\n",
       "      <td>1</td>\n",
       "      <td>0</td>\n",
       "      <td>...</td>\n",
       "      <td>0</td>\n",
       "      <td>0</td>\n",
       "      <td>0</td>\n",
       "      <td>0</td>\n",
       "      <td>1</td>\n",
       "      <td>0</td>\n",
       "      <td>0</td>\n",
       "      <td>0</td>\n",
       "      <td>0</td>\n",
       "      <td>0</td>\n",
       "    </tr>\n",
       "    <tr>\n",
       "      <th>2</th>\n",
       "      <td>0</td>\n",
       "      <td>0</td>\n",
       "      <td>0</td>\n",
       "      <td>0</td>\n",
       "      <td>0</td>\n",
       "      <td>0</td>\n",
       "      <td>0</td>\n",
       "      <td>0</td>\n",
       "      <td>1</td>\n",
       "      <td>0</td>\n",
       "      <td>...</td>\n",
       "      <td>0</td>\n",
       "      <td>0</td>\n",
       "      <td>0</td>\n",
       "      <td>0</td>\n",
       "      <td>1</td>\n",
       "      <td>0</td>\n",
       "      <td>0</td>\n",
       "      <td>0</td>\n",
       "      <td>0</td>\n",
       "      <td>0</td>\n",
       "    </tr>\n",
       "    <tr>\n",
       "      <th>3</th>\n",
       "      <td>0</td>\n",
       "      <td>0</td>\n",
       "      <td>0</td>\n",
       "      <td>0</td>\n",
       "      <td>0</td>\n",
       "      <td>0</td>\n",
       "      <td>0</td>\n",
       "      <td>0</td>\n",
       "      <td>1</td>\n",
       "      <td>0</td>\n",
       "      <td>...</td>\n",
       "      <td>1</td>\n",
       "      <td>0</td>\n",
       "      <td>0</td>\n",
       "      <td>0</td>\n",
       "      <td>0</td>\n",
       "      <td>0</td>\n",
       "      <td>0</td>\n",
       "      <td>0</td>\n",
       "      <td>0</td>\n",
       "      <td>0</td>\n",
       "    </tr>\n",
       "    <tr>\n",
       "      <th>4</th>\n",
       "      <td>0</td>\n",
       "      <td>0</td>\n",
       "      <td>0</td>\n",
       "      <td>0</td>\n",
       "      <td>0</td>\n",
       "      <td>0</td>\n",
       "      <td>1</td>\n",
       "      <td>0</td>\n",
       "      <td>0</td>\n",
       "      <td>0</td>\n",
       "      <td>...</td>\n",
       "      <td>0</td>\n",
       "      <td>0</td>\n",
       "      <td>0</td>\n",
       "      <td>0</td>\n",
       "      <td>1</td>\n",
       "      <td>0</td>\n",
       "      <td>0</td>\n",
       "      <td>0</td>\n",
       "      <td>0</td>\n",
       "      <td>0</td>\n",
       "    </tr>\n",
       "  </tbody>\n",
       "</table>\n",
       "<p>5 rows × 40 columns</p>\n",
       "</div>"
      ],
      "text/plain": [
       "   ALUMBRADO  ARBOLADO Y ESPACIOS VERDES  CALLES Y VEREDAS  CEMENTERIOS  \\\n",
       "0          0                           0                 1            0   \n",
       "1          0                           0                 0            0   \n",
       "2          0                           0                 0            0   \n",
       "3          0                           0                 0            0   \n",
       "4          0                           0                 0            0   \n",
       "\n",
       "   CONTROL EDILICIO, OBRAS Y CATASTRO  FISCALIZACIÓN ACTIVIDADES COMERCIALES  \\\n",
       "0                                   0                                      0   \n",
       "1                                   0                                      0   \n",
       "2                                   0                                      0   \n",
       "3                                   0                                      0   \n",
       "4                                   0                                      0   \n",
       "\n",
       "   LIMPIEZA Y RECOLECCIÓN  MEDIO AMBIENTE Y RECICLADO  MEDIOS DE TRANSPORTE  \\\n",
       "0                       0                           0                     0   \n",
       "1                       0                           0                     1   \n",
       "2                       0                           0                     1   \n",
       "3                       0                           0                     1   \n",
       "4                       1                           0                     0   \n",
       "\n",
       "   ORDENAMIENTO DEL ESPACIO PÚBLICO    ...     COMUNA 14  COMUNA 15  COMUNA 2  \\\n",
       "0                                 0    ...             0          0         0   \n",
       "1                                 0    ...             0          0         0   \n",
       "2                                 0    ...             0          0         0   \n",
       "3                                 0    ...             1          0         0   \n",
       "4                                 0    ...             0          0         0   \n",
       "\n",
       "   COMUNA 3  COMUNA 4  COMUNA 5  COMUNA 6  COMUNA 7  COMUNA 8  COMUNA 9  \n",
       "0         0         0         1         0         0         0         0  \n",
       "1         0         1         0         0         0         0         0  \n",
       "2         0         1         0         0         0         0         0  \n",
       "3         0         0         0         0         0         0         0  \n",
       "4         0         1         0         0         0         0         0  \n",
       "\n",
       "[5 rows x 40 columns]"
      ]
     },
     "execution_count": 28,
     "metadata": {},
     "output_type": "execute_result"
    }
   ],
   "source": [
    "suacan.head()"
   ]
  },
  {
   "cell_type": "markdown",
   "metadata": {},
   "source": [
    "## Separamos Y (CANAL) & X (Columnas anteriormente seleccionadas)"
   ]
  },
  {
   "cell_type": "code",
   "execution_count": 29,
   "metadata": {},
   "outputs": [],
   "source": [
    "#Variable dependiente - Etiqueta\n",
    "y = np.array(suacany[[\"CANAL\"]])"
   ]
  },
  {
   "cell_type": "code",
   "execution_count": 96,
   "metadata": {},
   "outputs": [],
   "source": [
    "# Transformamos el label del target en formato numerico para poder procesarlo \n",
    "from sklearn import preprocessing\n",
    "\n",
    "# LabelEncoder sirve para normalizar las labels entre 0 y n-clases y ademas transforma a numerico. \n",
    "# 1 - Primero creo un objeto (con determinados argumentos) que llama a la funcion que deseo\n",
    "le = preprocessing.LabelEncoder()\n",
    "\n",
    "# 2 - AL objeto le aplico la funcion fit a los datos desados \n",
    "y = le.fit_transform(y)\n",
    "\n",
    "# 3 - Agrego columna al Data Set originl\n",
    "suacany['EncodedCanal'] = y"
   ]
  },
  {
   "cell_type": "code",
   "execution_count": 108,
   "metadata": {},
   "outputs": [
    {
     "data": {
      "text/html": [
       "<div>\n",
       "<style scoped>\n",
       "    .dataframe tbody tr th:only-of-type {\n",
       "        vertical-align: middle;\n",
       "    }\n",
       "\n",
       "    .dataframe tbody tr th {\n",
       "        vertical-align: top;\n",
       "    }\n",
       "\n",
       "    .dataframe thead th {\n",
       "        text-align: right;\n",
       "    }\n",
       "</style>\n",
       "<table border=\"1\" class=\"dataframe\">\n",
       "  <thead>\n",
       "    <tr style=\"text-align: right;\">\n",
       "      <th></th>\n",
       "      <th>CANAL</th>\n",
       "      <th>EncodedCanal</th>\n",
       "    </tr>\n",
       "  </thead>\n",
       "  <tbody>\n",
       "    <tr>\n",
       "      <th>0</th>\n",
       "      <td>WEB</td>\n",
       "      <td>3</td>\n",
       "    </tr>\n",
       "    <tr>\n",
       "      <th>1</th>\n",
       "      <td>147</td>\n",
       "      <td>0</td>\n",
       "    </tr>\n",
       "    <tr>\n",
       "      <th>2</th>\n",
       "      <td>147</td>\n",
       "      <td>0</td>\n",
       "    </tr>\n",
       "    <tr>\n",
       "      <th>3</th>\n",
       "      <td>WEB</td>\n",
       "      <td>3</td>\n",
       "    </tr>\n",
       "    <tr>\n",
       "      <th>4</th>\n",
       "      <td>WEB</td>\n",
       "      <td>3</td>\n",
       "    </tr>\n",
       "  </tbody>\n",
       "</table>\n",
       "</div>"
      ],
      "text/plain": [
       "  CANAL  EncodedCanal\n",
       "0   WEB             3\n",
       "1   147             0\n",
       "2   147             0\n",
       "3   WEB             3\n",
       "4   WEB             3"
      ]
     },
     "execution_count": 108,
     "metadata": {},
     "output_type": "execute_result"
    }
   ],
   "source": [
    "suacany.head(5)"
   ]
  },
  {
   "cell_type": "code",
   "execution_count": 31,
   "metadata": {},
   "outputs": [],
   "source": [
    "X = suacan"
   ]
  },
  {
   "cell_type": "code",
   "execution_count": 32,
   "metadata": {},
   "outputs": [],
   "source": [
    "# Separamos Train y Test\n",
    "from sklearn.model_selection import train_test_split\n",
    "x_train, x_test, y_train, y_test = train_test_split(X, y, test_size=0.9, random_state=4)"
   ]
  },
  {
   "cell_type": "code",
   "execution_count": 33,
   "metadata": {},
   "outputs": [
    {
     "data": {
      "text/plain": [
       "StandardScaler(copy=True, with_mean=True, with_std=True)"
      ]
     },
     "execution_count": 33,
     "metadata": {},
     "output_type": "execute_result"
    }
   ],
   "source": [
    "# Auto scaling train- set (mean = 0, std = 1)\n",
    "scaler = preprocessing.StandardScaler().fit(x_train)\n",
    "scaler"
   ]
  },
  {
   "cell_type": "code",
   "execution_count": 34,
   "metadata": {},
   "outputs": [
    {
     "name": "stdout",
     "output_type": "stream",
     "text": [
      "[-7.08240953e-18 -6.49220873e-17  2.59688349e-17  1.00334135e-17\n",
      "  7.55457016e-17  2.24276302e-17 -8.17428100e-17 -5.01670675e-18\n",
      "  2.41982325e-17 -1.29844175e-17 -1.77060238e-17  2.24276302e-17\n",
      " -2.71492365e-17  4.51503607e-17  6.49220873e-18  5.72494770e-17\n",
      " -4.01336540e-17 -8.20379104e-17  6.25612842e-17  7.08240953e-17\n",
      "  2.65590357e-17  1.59354214e-17 -1.18040159e-18  1.14498954e-16\n",
      " -6.78730913e-17 -3.54120476e-18 -3.82155014e-17 -5.48886738e-17\n",
      " -8.73497175e-17  4.33797584e-17  3.40840958e-17  4.13140556e-18\n",
      "  2.83296381e-17 -5.66592762e-17 -2.30178310e-17 -4.13140556e-17\n",
      " -1.68207226e-17  5.90200794e-19 -4.95768667e-17 -4.26420074e-17]\n",
      "[1. 1. 1. 1. 1. 1. 1. 1. 1. 1. 1. 1. 1. 1. 1. 1. 1. 1. 1. 1. 1. 1. 1. 1.\n",
      " 1. 1. 1. 1. 1. 1. 1. 1. 1. 1. 1. 1. 1. 1. 1. 1.]\n"
     ]
    }
   ],
   "source": [
    "x_train_scaled = scaler.transform(x_train)  \n",
    "print(x_train_scaled.mean(axis=0))\n",
    "print(x_train_scaled.std(axis=0))"
   ]
  },
  {
   "cell_type": "code",
   "execution_count": 35,
   "metadata": {},
   "outputs": [
    {
     "name": "stdout",
     "output_type": "stream",
     "text": [
      "[ 0.00025477 -0.00208431  0.00148974 -0.00467866 -0.00988686  0.0010602\n",
      " -0.00281506  0.00253053 -0.00716189 -0.00149778  0.00573809  0.01782332\n",
      "  0.01225887 -0.00659569 -0.00258197  0.00270514 -0.00287885  0.00559277\n",
      "  0.00343003  0.00011763 -0.0049649   0.01377071 -0.01517466  0.01629853\n",
      " -0.01629853 -0.00119412  0.00736905  0.0136641   0.00212252  0.01147903\n",
      "  0.00855994 -0.02686276 -0.01623991 -0.00673358  0.00591309  0.00386018\n",
      "  0.00346858 -0.01235565  0.00123917 -0.00080399]\n",
      "[1.00047479 0.99671692 1.00233411 0.83887051 0.97134024 1.00345436\n",
      " 0.99951313 1.06712336 0.98250532 0.993022   1.09981696 1.1067596\n",
      " 1.05449125 0.93802047 0.98102007 1.01097462 0.98994677 1.00398289\n",
      " 1.00196966 1.00025834 0.96810824 1.00590876 0.99674827 0.9996112\n",
      " 0.9996112  0.99785531 1.01171102 1.01912585 1.00300338 1.01518535\n",
      " 1.01398575 0.95790271 0.959074   0.98579571 1.01049038 1.00788523\n",
      " 1.00685339 0.97844615 1.0027379  0.99848826]\n"
     ]
    }
   ],
   "source": [
    "x_test_scaled = scaler.transform(x_test)  \n",
    "print(x_test_scaled.mean(axis=0))\n",
    "print(x_test_scaled.std(axis=0))"
   ]
  },
  {
   "cell_type": "markdown",
   "metadata": {},
   "source": [
    "## Defino modelo KNN"
   ]
  },
  {
   "cell_type": "code",
   "execution_count": 36,
   "metadata": {},
   "outputs": [],
   "source": [
    "# defino modelo KNN llamado \"neigh\"\n",
    "neigh = KNeighborsClassifier(n_neighbors=2, weights = \"distance\")"
   ]
  },
  {
   "cell_type": "code",
   "execution_count": 37,
   "metadata": {},
   "outputs": [
    {
     "data": {
      "text/plain": [
       "array([20, 22, 24, 26, 28, 30, 32, 34, 36, 38, 40, 42, 44, 46, 48])"
      ]
     },
     "execution_count": 37,
     "metadata": {},
     "output_type": "execute_result"
    }
   ],
   "source": [
    "parameters_k = np.arange(20,50,2)\n",
    "parameters_k"
   ]
  },
  {
   "cell_type": "code",
   "execution_count": 38,
   "metadata": {},
   "outputs": [],
   "source": [
    "parameters_knn = [{'n_neighbors': parameters_k}]"
   ]
  },
  {
   "cell_type": "code",
   "execution_count": 39,
   "metadata": {},
   "outputs": [],
   "source": [
    "n_folds = 5"
   ]
  },
  {
   "cell_type": "code",
   "execution_count": 40,
   "metadata": {},
   "outputs": [],
   "source": [
    "classifier_neigh = GridSearchCV(neigh, parameters_knn, refit = True, cv=n_folds)"
   ]
  },
  {
   "cell_type": "code",
   "execution_count": 41,
   "metadata": {},
   "outputs": [
    {
     "data": {
      "text/plain": [
       "GridSearchCV(cv=5, error_score='raise',\n",
       "       estimator=KNeighborsClassifier(algorithm='auto', leaf_size=30, metric='minkowski',\n",
       "           metric_params=None, n_jobs=1, n_neighbors=2, p=2,\n",
       "           weights='distance'),\n",
       "       fit_params=None, iid=True, n_jobs=1,\n",
       "       param_grid=[{'n_neighbors': array([20, 22, 24, 26, 28, 30, 32, 34, 36, 38, 40, 42, 44, 46, 48])}],\n",
       "       pre_dispatch='2*n_jobs', refit=True, return_train_score='warn',\n",
       "       scoring=None, verbose=0)"
      ]
     },
     "execution_count": 41,
     "metadata": {},
     "output_type": "execute_result"
    }
   ],
   "source": [
    "classifier_neigh.fit(x_train_scaled, y_train)"
   ]
  },
  {
   "cell_type": "code",
   "execution_count": 42,
   "metadata": {},
   "outputs": [
    {
     "data": {
      "text/plain": [
       "(108359, 40)"
      ]
     },
     "execution_count": 42,
     "metadata": {},
     "output_type": "execute_result"
    }
   ],
   "source": [
    "np.shape(x_test_scaled)"
   ]
  },
  {
   "cell_type": "code",
   "execution_count": 43,
   "metadata": {},
   "outputs": [
    {
     "name": "stdout",
     "output_type": "stream",
     "text": [
      "[0 0 0 ... 0 0 0]\n"
     ]
    }
   ],
   "source": [
    "# Prediction\n",
    "y_pred = classifier_neigh.predict(x_test_scaled)\n",
    "print(y_pred)"
   ]
  },
  {
   "cell_type": "code",
   "execution_count": 44,
   "metadata": {},
   "outputs": [
    {
     "name": "stdout",
     "output_type": "stream",
     "text": [
      "0.7749794664033445\n"
     ]
    }
   ],
   "source": [
    "# Model prediciton\n",
    "print(classifier_neigh.score(x_test_scaled,y_test.ravel()))"
   ]
  },
  {
   "cell_type": "code",
   "execution_count": 93,
   "metadata": {},
   "outputs": [
    {
     "name": "stdout",
     "output_type": "stream",
     "text": [
      "El accuracy es 0.7749794664033445\n"
     ]
    }
   ],
   "source": [
    "# Computo el accuracy (comparar ytest vs ypred)\n",
    "test_acc = accuracy_score(y_test, y_pred)\n",
    "print(\"El accuracy es \" + str(test_acc))"
   ]
  },
  {
   "cell_type": "code",
   "execution_count": 94,
   "metadata": {},
   "outputs": [
    {
     "data": {
      "text/plain": [
       "array([[61298,  1615,    18,  2089],\n",
       "       [ 2768, 18346,     4,   402],\n",
       "       [ 1869,    15,     1,   101],\n",
       "       [14288,  1207,     7,  4331]])"
      ]
     },
     "execution_count": 94,
     "metadata": {},
     "output_type": "execute_result"
    }
   ],
   "source": [
    "# Compute confusion Matrix\n",
    "cm = confusion_matrix(y_test, y_pred)\n",
    "cm"
   ]
  },
  {
   "cell_type": "code",
   "execution_count": 103,
   "metadata": {},
   "outputs": [
    {
     "data": {
      "image/png": "[encoded data removed]",
      "text/plain": [
       "<Figure size 432x288 with 2 Axes>"
      ]
     },
     "metadata": {},
     "output_type": "display_data"
    }
   ],
   "source": [
    "df_cm = pd.DataFrame(cm, index = ['147', 'APP', 'Comunas', 'WEB'], columns = ['147', 'APP', 'Comunas', 'WEB'])\n",
    "plt.figure(figsize = (6,4))\n",
    "sns.heatmap(df_cm, annot=True)\n",
    "plt.title('Classification Confusion matrix')\n",
    "plt.show()"
   ]
  },
  {
   "cell_type": "code",
   "execution_count": 67,
   "metadata": {},
   "outputs": [
    {
     "name": "stdout",
     "output_type": "stream",
     "text": [
      "El AUC es = 0.8498243448511369\n"
     ]
    }
   ],
   "source": [
    "#compute and plot AUC\n",
    "from sklearn.metrics import roc_curve, auc\n",
    "fpr1, tpr1, thresholds = roc_curve(y_test, y_pred, pos_label=1)\n",
    "auc = metrics.auc(fpr1, tpr1)\n",
    "print(\"El AUC es = \" + str(auc))"
   ]
  },
  {
   "cell_type": "code",
   "execution_count": 46,
   "metadata": {},
   "outputs": [
    {
     "data": {
      "text/plain": [
       "(12039, 40)"
      ]
     },
     "execution_count": 46,
     "metadata": {},
     "output_type": "execute_result"
    }
   ],
   "source": [
    "np.shape(x_train_scaled)"
   ]
  },
  {
   "cell_type": "markdown",
   "metadata": {},
   "source": [
    "## Pruebo Modelo con otro mes -> Enero 2018"
   ]
  },
  {
   "cell_type": "markdown",
   "metadata": {},
   "source": [
    "### Primero creamos nuevamente un Data Frame con Dummies para Enero 2018 (Similar a los pasos de creación de la primer tabla de Dummies)"
   ]
  },
  {
   "cell_type": "code",
   "execution_count": 74,
   "metadata": {},
   "outputs": [],
   "source": [
    "suacanprueba = datasuac.iloc[:,[1,4,7,13,14]]"
   ]
  },
  {
   "cell_type": "code",
   "execution_count": 75,
   "metadata": {},
   "outputs": [
    {
     "data": {
      "text/html": [
       "<div>\n",
       "<style scoped>\n",
       "    .dataframe tbody tr th:only-of-type {\n",
       "        vertical-align: middle;\n",
       "    }\n",
       "\n",
       "    .dataframe tbody tr th {\n",
       "        vertical-align: top;\n",
       "    }\n",
       "\n",
       "    .dataframe thead th {\n",
       "        text-align: right;\n",
       "    }\n",
       "</style>\n",
       "<table border=\"1\" class=\"dataframe\">\n",
       "  <thead>\n",
       "    <tr style=\"text-align: right;\">\n",
       "      <th></th>\n",
       "      <th>CATEGORIA</th>\n",
       "      <th>TIPO_PRESTACION</th>\n",
       "      <th>DOMICILIO_CGPC</th>\n",
       "      <th>CANAL</th>\n",
       "      <th>GENERO</th>\n",
       "    </tr>\n",
       "  </thead>\n",
       "  <tbody>\n",
       "    <tr>\n",
       "      <th>0</th>\n",
       "      <td>CALLES Y VEREDAS</td>\n",
       "      <td>SOLICITUD</td>\n",
       "      <td>COMUNA 5</td>\n",
       "      <td>WEB</td>\n",
       "      <td>FEMENINO</td>\n",
       "    </tr>\n",
       "    <tr>\n",
       "      <th>1</th>\n",
       "      <td>MEDIOS DE TRANSPORTE</td>\n",
       "      <td>QUEJA</td>\n",
       "      <td>COMUNA 4</td>\n",
       "      <td>147</td>\n",
       "      <td>MASCULINO</td>\n",
       "    </tr>\n",
       "    <tr>\n",
       "      <th>2</th>\n",
       "      <td>MEDIOS DE TRANSPORTE</td>\n",
       "      <td>QUEJA</td>\n",
       "      <td>COMUNA 4</td>\n",
       "      <td>147</td>\n",
       "      <td>MASCULINO</td>\n",
       "    </tr>\n",
       "    <tr>\n",
       "      <th>3</th>\n",
       "      <td>MEDIOS DE TRANSPORTE</td>\n",
       "      <td>QUEJA</td>\n",
       "      <td>COMUNA 14</td>\n",
       "      <td>WEB</td>\n",
       "      <td>FEMENINO</td>\n",
       "    </tr>\n",
       "    <tr>\n",
       "      <th>4</th>\n",
       "      <td>LIMPIEZA Y RECOLECCIÓN</td>\n",
       "      <td>SOLICITUD</td>\n",
       "      <td>COMUNA 4</td>\n",
       "      <td>WEB</td>\n",
       "      <td>MASCULINO</td>\n",
       "    </tr>\n",
       "  </tbody>\n",
       "</table>\n",
       "</div>"
      ],
      "text/plain": [
       "                CATEGORIA TIPO_PRESTACION DOMICILIO_CGPC CANAL     GENERO\n",
       "0        CALLES Y VEREDAS       SOLICITUD       COMUNA 5   WEB   FEMENINO\n",
       "1    MEDIOS DE TRANSPORTE           QUEJA       COMUNA 4   147  MASCULINO\n",
       "2    MEDIOS DE TRANSPORTE           QUEJA       COMUNA 4   147  MASCULINO\n",
       "3    MEDIOS DE TRANSPORTE           QUEJA      COMUNA 14   WEB   FEMENINO\n",
       "4  LIMPIEZA Y RECOLECCIÓN       SOLICITUD       COMUNA 4   WEB  MASCULINO"
      ]
     },
     "execution_count": 75,
     "metadata": {},
     "output_type": "execute_result"
    }
   ],
   "source": [
    "suacanprueba.head()"
   ]
  },
  {
   "cell_type": "code",
   "execution_count": 76,
   "metadata": {},
   "outputs": [],
   "source": [
    "# Dummies para la feature \"CATEGORIA\"\n",
    "categoria_dummie = pd.get_dummies(suacanprueba.CATEGORIA)\n",
    "genero_dummie = pd.get_dummies(suacanprueba.GENERO)\n",
    "comuna_dummie = pd.get_dummies(suacanprueba.DOMICILIO_CGPC)\n",
    "tipo_de_prestacion_dummie = pd.get_dummies(suacanprueba.TIPO_PRESTACION)"
   ]
  },
  {
   "cell_type": "code",
   "execution_count": 77,
   "metadata": {},
   "outputs": [
    {
     "data": {
      "text/html": [
       "<div>\n",
       "<style scoped>\n",
       "    .dataframe tbody tr th:only-of-type {\n",
       "        vertical-align: middle;\n",
       "    }\n",
       "\n",
       "    .dataframe tbody tr th {\n",
       "        vertical-align: top;\n",
       "    }\n",
       "\n",
       "    .dataframe thead th {\n",
       "        text-align: right;\n",
       "    }\n",
       "</style>\n",
       "<table border=\"1\" class=\"dataframe\">\n",
       "  <thead>\n",
       "    <tr style=\"text-align: right;\">\n",
       "      <th></th>\n",
       "      <th>CATEGORIA</th>\n",
       "      <th>TIPO_PRESTACION</th>\n",
       "      <th>DOMICILIO_CGPC</th>\n",
       "      <th>CANAL</th>\n",
       "      <th>GENERO</th>\n",
       "      <th>ALUMBRADO</th>\n",
       "      <th>ARBOLADO Y ESPACIOS VERDES</th>\n",
       "      <th>CALLES Y VEREDAS</th>\n",
       "      <th>CEMENTERIOS</th>\n",
       "      <th>CONTROL EDILICIO, OBRAS Y CATASTRO</th>\n",
       "      <th>...</th>\n",
       "      <th>COMUNA 14</th>\n",
       "      <th>COMUNA 15</th>\n",
       "      <th>COMUNA 2</th>\n",
       "      <th>COMUNA 3</th>\n",
       "      <th>COMUNA 4</th>\n",
       "      <th>COMUNA 5</th>\n",
       "      <th>COMUNA 6</th>\n",
       "      <th>COMUNA 7</th>\n",
       "      <th>COMUNA 8</th>\n",
       "      <th>COMUNA 9</th>\n",
       "    </tr>\n",
       "  </thead>\n",
       "  <tbody>\n",
       "    <tr>\n",
       "      <th>0</th>\n",
       "      <td>CALLES Y VEREDAS</td>\n",
       "      <td>SOLICITUD</td>\n",
       "      <td>COMUNA 5</td>\n",
       "      <td>WEB</td>\n",
       "      <td>FEMENINO</td>\n",
       "      <td>0</td>\n",
       "      <td>0</td>\n",
       "      <td>1</td>\n",
       "      <td>0</td>\n",
       "      <td>0</td>\n",
       "      <td>...</td>\n",
       "      <td>0</td>\n",
       "      <td>0</td>\n",
       "      <td>0</td>\n",
       "      <td>0</td>\n",
       "      <td>0</td>\n",
       "      <td>1</td>\n",
       "      <td>0</td>\n",
       "      <td>0</td>\n",
       "      <td>0</td>\n",
       "      <td>0</td>\n",
       "    </tr>\n",
       "    <tr>\n",
       "      <th>1</th>\n",
       "      <td>MEDIOS DE TRANSPORTE</td>\n",
       "      <td>QUEJA</td>\n",
       "      <td>COMUNA 4</td>\n",
       "      <td>147</td>\n",
       "      <td>MASCULINO</td>\n",
       "      <td>0</td>\n",
       "      <td>0</td>\n",
       "      <td>0</td>\n",
       "      <td>0</td>\n",
       "      <td>0</td>\n",
       "      <td>...</td>\n",
       "      <td>0</td>\n",
       "      <td>0</td>\n",
       "      <td>0</td>\n",
       "      <td>0</td>\n",
       "      <td>1</td>\n",
       "      <td>0</td>\n",
       "      <td>0</td>\n",
       "      <td>0</td>\n",
       "      <td>0</td>\n",
       "      <td>0</td>\n",
       "    </tr>\n",
       "    <tr>\n",
       "      <th>2</th>\n",
       "      <td>MEDIOS DE TRANSPORTE</td>\n",
       "      <td>QUEJA</td>\n",
       "      <td>COMUNA 4</td>\n",
       "      <td>147</td>\n",
       "      <td>MASCULINO</td>\n",
       "      <td>0</td>\n",
       "      <td>0</td>\n",
       "      <td>0</td>\n",
       "      <td>0</td>\n",
       "      <td>0</td>\n",
       "      <td>...</td>\n",
       "      <td>0</td>\n",
       "      <td>0</td>\n",
       "      <td>0</td>\n",
       "      <td>0</td>\n",
       "      <td>1</td>\n",
       "      <td>0</td>\n",
       "      <td>0</td>\n",
       "      <td>0</td>\n",
       "      <td>0</td>\n",
       "      <td>0</td>\n",
       "    </tr>\n",
       "    <tr>\n",
       "      <th>3</th>\n",
       "      <td>MEDIOS DE TRANSPORTE</td>\n",
       "      <td>QUEJA</td>\n",
       "      <td>COMUNA 14</td>\n",
       "      <td>WEB</td>\n",
       "      <td>FEMENINO</td>\n",
       "      <td>0</td>\n",
       "      <td>0</td>\n",
       "      <td>0</td>\n",
       "      <td>0</td>\n",
       "      <td>0</td>\n",
       "      <td>...</td>\n",
       "      <td>1</td>\n",
       "      <td>0</td>\n",
       "      <td>0</td>\n",
       "      <td>0</td>\n",
       "      <td>0</td>\n",
       "      <td>0</td>\n",
       "      <td>0</td>\n",
       "      <td>0</td>\n",
       "      <td>0</td>\n",
       "      <td>0</td>\n",
       "    </tr>\n",
       "    <tr>\n",
       "      <th>4</th>\n",
       "      <td>LIMPIEZA Y RECOLECCIÓN</td>\n",
       "      <td>SOLICITUD</td>\n",
       "      <td>COMUNA 4</td>\n",
       "      <td>WEB</td>\n",
       "      <td>MASCULINO</td>\n",
       "      <td>0</td>\n",
       "      <td>0</td>\n",
       "      <td>0</td>\n",
       "      <td>0</td>\n",
       "      <td>0</td>\n",
       "      <td>...</td>\n",
       "      <td>0</td>\n",
       "      <td>0</td>\n",
       "      <td>0</td>\n",
       "      <td>0</td>\n",
       "      <td>1</td>\n",
       "      <td>0</td>\n",
       "      <td>0</td>\n",
       "      <td>0</td>\n",
       "      <td>0</td>\n",
       "      <td>0</td>\n",
       "    </tr>\n",
       "    <tr>\n",
       "      <th>5</th>\n",
       "      <td>TRÁNSITO</td>\n",
       "      <td>DENUNCIA</td>\n",
       "      <td>COMUNA 10</td>\n",
       "      <td>APP</td>\n",
       "      <td>MASCULINO</td>\n",
       "      <td>0</td>\n",
       "      <td>0</td>\n",
       "      <td>0</td>\n",
       "      <td>0</td>\n",
       "      <td>0</td>\n",
       "      <td>...</td>\n",
       "      <td>0</td>\n",
       "      <td>0</td>\n",
       "      <td>0</td>\n",
       "      <td>0</td>\n",
       "      <td>0</td>\n",
       "      <td>0</td>\n",
       "      <td>0</td>\n",
       "      <td>0</td>\n",
       "      <td>0</td>\n",
       "      <td>0</td>\n",
       "    </tr>\n",
       "    <tr>\n",
       "      <th>6</th>\n",
       "      <td>TRÁNSITO</td>\n",
       "      <td>DENUNCIA</td>\n",
       "      <td>COMUNA 13</td>\n",
       "      <td>APP</td>\n",
       "      <td>MASCULINO</td>\n",
       "      <td>0</td>\n",
       "      <td>0</td>\n",
       "      <td>0</td>\n",
       "      <td>0</td>\n",
       "      <td>0</td>\n",
       "      <td>...</td>\n",
       "      <td>0</td>\n",
       "      <td>0</td>\n",
       "      <td>0</td>\n",
       "      <td>0</td>\n",
       "      <td>0</td>\n",
       "      <td>0</td>\n",
       "      <td>0</td>\n",
       "      <td>0</td>\n",
       "      <td>0</td>\n",
       "      <td>0</td>\n",
       "    </tr>\n",
       "    <tr>\n",
       "      <th>7</th>\n",
       "      <td>TRÁNSITO</td>\n",
       "      <td>DENUNCIA</td>\n",
       "      <td>COMUNA 15</td>\n",
       "      <td>WEB</td>\n",
       "      <td>MASCULINO</td>\n",
       "      <td>0</td>\n",
       "      <td>0</td>\n",
       "      <td>0</td>\n",
       "      <td>0</td>\n",
       "      <td>0</td>\n",
       "      <td>...</td>\n",
       "      <td>0</td>\n",
       "      <td>1</td>\n",
       "      <td>0</td>\n",
       "      <td>0</td>\n",
       "      <td>0</td>\n",
       "      <td>0</td>\n",
       "      <td>0</td>\n",
       "      <td>0</td>\n",
       "      <td>0</td>\n",
       "      <td>0</td>\n",
       "    </tr>\n",
       "    <tr>\n",
       "      <th>8</th>\n",
       "      <td>TRÁNSITO</td>\n",
       "      <td>DENUNCIA</td>\n",
       "      <td>COMUNA 13</td>\n",
       "      <td>WEB</td>\n",
       "      <td>MASCULINO</td>\n",
       "      <td>0</td>\n",
       "      <td>0</td>\n",
       "      <td>0</td>\n",
       "      <td>0</td>\n",
       "      <td>0</td>\n",
       "      <td>...</td>\n",
       "      <td>0</td>\n",
       "      <td>0</td>\n",
       "      <td>0</td>\n",
       "      <td>0</td>\n",
       "      <td>0</td>\n",
       "      <td>0</td>\n",
       "      <td>0</td>\n",
       "      <td>0</td>\n",
       "      <td>0</td>\n",
       "      <td>0</td>\n",
       "    </tr>\n",
       "    <tr>\n",
       "      <th>9</th>\n",
       "      <td>TRÁNSITO</td>\n",
       "      <td>DENUNCIA</td>\n",
       "      <td>COMUNA 13</td>\n",
       "      <td>APP</td>\n",
       "      <td>MASCULINO</td>\n",
       "      <td>0</td>\n",
       "      <td>0</td>\n",
       "      <td>0</td>\n",
       "      <td>0</td>\n",
       "      <td>0</td>\n",
       "      <td>...</td>\n",
       "      <td>0</td>\n",
       "      <td>0</td>\n",
       "      <td>0</td>\n",
       "      <td>0</td>\n",
       "      <td>0</td>\n",
       "      <td>0</td>\n",
       "      <td>0</td>\n",
       "      <td>0</td>\n",
       "      <td>0</td>\n",
       "      <td>0</td>\n",
       "    </tr>\n",
       "  </tbody>\n",
       "</table>\n",
       "<p>10 rows × 45 columns</p>\n",
       "</div>"
      ],
      "text/plain": [
       "                CATEGORIA TIPO_PRESTACION DOMICILIO_CGPC CANAL     GENERO  \\\n",
       "0        CALLES Y VEREDAS       SOLICITUD       COMUNA 5   WEB   FEMENINO   \n",
       "1    MEDIOS DE TRANSPORTE           QUEJA       COMUNA 4   147  MASCULINO   \n",
       "2    MEDIOS DE TRANSPORTE           QUEJA       COMUNA 4   147  MASCULINO   \n",
       "3    MEDIOS DE TRANSPORTE           QUEJA      COMUNA 14   WEB   FEMENINO   \n",
       "4  LIMPIEZA Y RECOLECCIÓN       SOLICITUD       COMUNA 4   WEB  MASCULINO   \n",
       "5                TRÁNSITO        DENUNCIA      COMUNA 10   APP  MASCULINO   \n",
       "6                TRÁNSITO        DENUNCIA      COMUNA 13   APP  MASCULINO   \n",
       "7                TRÁNSITO        DENUNCIA      COMUNA 15   WEB  MASCULINO   \n",
       "8                TRÁNSITO        DENUNCIA      COMUNA 13   WEB  MASCULINO   \n",
       "9                TRÁNSITO        DENUNCIA      COMUNA 13   APP  MASCULINO   \n",
       "\n",
       "   ALUMBRADO  ARBOLADO Y ESPACIOS VERDES  CALLES Y VEREDAS  CEMENTERIOS  \\\n",
       "0          0                           0                 1            0   \n",
       "1          0                           0                 0            0   \n",
       "2          0                           0                 0            0   \n",
       "3          0                           0                 0            0   \n",
       "4          0                           0                 0            0   \n",
       "5          0                           0                 0            0   \n",
       "6          0                           0                 0            0   \n",
       "7          0                           0                 0            0   \n",
       "8          0                           0                 0            0   \n",
       "9          0                           0                 0            0   \n",
       "\n",
       "   CONTROL EDILICIO, OBRAS Y CATASTRO    ...     COMUNA 14  COMUNA 15  \\\n",
       "0                                   0    ...             0          0   \n",
       "1                                   0    ...             0          0   \n",
       "2                                   0    ...             0          0   \n",
       "3                                   0    ...             1          0   \n",
       "4                                   0    ...             0          0   \n",
       "5                                   0    ...             0          0   \n",
       "6                                   0    ...             0          0   \n",
       "7                                   0    ...             0          1   \n",
       "8                                   0    ...             0          0   \n",
       "9                                   0    ...             0          0   \n",
       "\n",
       "   COMUNA 2  COMUNA 3  COMUNA 4  COMUNA 5  COMUNA 6  COMUNA 7  COMUNA 8  \\\n",
       "0         0         0         0         1         0         0         0   \n",
       "1         0         0         1         0         0         0         0   \n",
       "2         0         0         1         0         0         0         0   \n",
       "3         0         0         0         0         0         0         0   \n",
       "4         0         0         1         0         0         0         0   \n",
       "5         0         0         0         0         0         0         0   \n",
       "6         0         0         0         0         0         0         0   \n",
       "7         0         0         0         0         0         0         0   \n",
       "8         0         0         0         0         0         0         0   \n",
       "9         0         0         0         0         0         0         0   \n",
       "\n",
       "   COMUNA 9  \n",
       "0         0  \n",
       "1         0  \n",
       "2         0  \n",
       "3         0  \n",
       "4         0  \n",
       "5         0  \n",
       "6         0  \n",
       "7         0  \n",
       "8         0  \n",
       "9         0  \n",
       "\n",
       "[10 rows x 45 columns]"
      ]
     },
     "execution_count": 77,
     "metadata": {},
     "output_type": "execute_result"
    }
   ],
   "source": [
    "suacanprueba = suacanprueba.join([categoria_dummie, tipo_de_prestacion_dummie, genero_dummie, comuna_dummie])\n",
    "suacanprueba.head(10)"
   ]
  },
  {
   "cell_type": "code",
   "execution_count": 78,
   "metadata": {},
   "outputs": [],
   "source": [
    "suacanprueba = suacanprueba.loc[datasuac['FECHA_INGRESO'].str.contains(\"2018-02\")]"
   ]
  },
  {
   "cell_type": "code",
   "execution_count": 79,
   "metadata": {},
   "outputs": [],
   "source": [
    "suacanpruebay = suacanprueba.iloc[:,[3]]"
   ]
  },
  {
   "cell_type": "code",
   "execution_count": 80,
   "metadata": {},
   "outputs": [],
   "source": [
    "suacanprueba = suacanprueba.drop(['CATEGORIA', 'TIPO_PRESTACION', 'DOMICILIO_CGPC','GENERO','CANAL'], axis=1)"
   ]
  },
  {
   "cell_type": "code",
   "execution_count": 81,
   "metadata": {},
   "outputs": [
    {
     "data": {
      "text/plain": [
       "Index(['ALUMBRADO', 'ARBOLADO Y ESPACIOS VERDES', 'CALLES Y VEREDAS',\n",
       "       'CEMENTERIOS', 'CONTROL EDILICIO, OBRAS Y CATASTRO',\n",
       "       'FISCALIZACIÓN ACTIVIDADES COMERCIALES', 'LIMPIEZA Y RECOLECCIÓN',\n",
       "       'MEDIO AMBIENTE Y RECICLADO', 'MEDIOS DE TRANSPORTE',\n",
       "       'ORDENAMIENTO DEL ESPACIO PÚBLICO', 'OTRAS', 'PLUVIALES',\n",
       "       'RECICLADO Y PROTECCIÓN AMBIENTAL', 'SALUD Y SERVICIOS SOCIALES',\n",
       "       'SEGURIDAD', 'SUGERENCIAS Y LIBRO DE QUEJAS', 'TRÁMITES Y SERVICIOS',\n",
       "       'TRÁNSITO', 'DENUNCIA', 'QUEJA', 'REPORTE', 'SERVICIO', 'SOLICITUD',\n",
       "       'FEMENINO', 'MASCULINO', 'COMUNA 1', 'COMUNA 10', 'COMUNA 11',\n",
       "       'COMUNA 12', 'COMUNA 13', 'COMUNA 14', 'COMUNA 15', 'COMUNA 2',\n",
       "       'COMUNA 3', 'COMUNA 4', 'COMUNA 5', 'COMUNA 6', 'COMUNA 7', 'COMUNA 8',\n",
       "       'COMUNA 9'],\n",
       "      dtype='object')"
      ]
     },
     "execution_count": 81,
     "metadata": {},
     "output_type": "execute_result"
    }
   ],
   "source": [
    "suacanprueba.columns"
   ]
  },
  {
   "cell_type": "code",
   "execution_count": 82,
   "metadata": {},
   "outputs": [
    {
     "data": {
      "text/plain": [
       "(97903, 40)"
      ]
     },
     "execution_count": 82,
     "metadata": {},
     "output_type": "execute_result"
    }
   ],
   "source": [
    "np.shape(suacanprueba)"
   ]
  },
  {
   "cell_type": "markdown",
   "metadata": {},
   "source": [
    "## Ajusto modelo al nuevo Train Set de Enero 2018"
   ]
  },
  {
   "cell_type": "code",
   "execution_count": 83,
   "metadata": {},
   "outputs": [
    {
     "data": {
      "text/plain": [
       "StandardScaler(copy=True, with_mean=True, with_std=True)"
      ]
     },
     "execution_count": 83,
     "metadata": {},
     "output_type": "execute_result"
    }
   ],
   "source": [
    "# Auto scaling train- set (mean = 0, std = 1)\n",
    "scaler = preprocessing.StandardScaler().fit(x_train)\n",
    "scaler"
   ]
  },
  {
   "cell_type": "code",
   "execution_count": 84,
   "metadata": {},
   "outputs": [],
   "source": [
    "#Variable dependiente - Etiqueta\n",
    "yenero18 = np.array(suacanpruebay[[\"CANAL\"]])"
   ]
  },
  {
   "cell_type": "code",
   "execution_count": 85,
   "metadata": {},
   "outputs": [
    {
     "name": "stderr",
     "output_type": "stream",
     "text": [
      "/anaconda3/lib/python3.6/site-packages/sklearn/preprocessing/label.py:111: DataConversionWarning: A column-vector y was passed when a 1d array was expected. Please change the shape of y to (n_samples, ), for example using ravel().\n",
      "  y = column_or_1d(y, warn=True)\n"
     ]
    }
   ],
   "source": [
    "# Transformamos el label del target en formato numerico para poder procesarlo \n",
    "from sklearn import preprocessing\n",
    "\n",
    "# LabelEncoder sirve para normalizar las labels entre 0 y n-clases y ademas transforma a numerico. \n",
    "# 1 - Primero creo un objeto (con determinados argumentos) que llama a la funcion que deseo\n",
    "le = preprocessing.LabelEncoder()\n",
    "\n",
    "# 2 - AL objeto le aplico la funcion fit a los datos desados \n",
    "yenero18 = le.fit_transform(yenero18)"
   ]
  },
  {
   "cell_type": "code",
   "execution_count": 86,
   "metadata": {},
   "outputs": [],
   "source": [
    "x_test_enero18 = suacanprueba"
   ]
  },
  {
   "cell_type": "code",
   "execution_count": 87,
   "metadata": {},
   "outputs": [],
   "source": [
    "x_test_enero18 = suacanprueba.head(108359)"
   ]
  },
  {
   "cell_type": "code",
   "execution_count": 88,
   "metadata": {},
   "outputs": [
    {
     "data": {
      "text/plain": [
       "(97903, 40)"
      ]
     },
     "execution_count": 88,
     "metadata": {},
     "output_type": "execute_result"
    }
   ],
   "source": [
    "np.shape(x_test_enero18)"
   ]
  },
  {
   "cell_type": "code",
   "execution_count": 89,
   "metadata": {},
   "outputs": [
    {
     "name": "stdout",
     "output_type": "stream",
     "text": [
      "[ 0.00025477 -0.00208431  0.00148974 -0.00467866 -0.00988686  0.0010602\n",
      " -0.00281506  0.00253053 -0.00716189 -0.00149778  0.00573809  0.01782332\n",
      "  0.01225887 -0.00659569 -0.00258197  0.00270514 -0.00287885  0.00559277\n",
      "  0.00343003  0.00011763 -0.0049649   0.01377071 -0.01517466  0.01629853\n",
      " -0.01629853 -0.00119412  0.00736905  0.0136641   0.00212252  0.01147903\n",
      "  0.00855994 -0.02686276 -0.01623991 -0.00673358  0.00591309  0.00386018\n",
      "  0.00346858 -0.01235565  0.00123917 -0.00080399]\n",
      "[1.00047479 0.99671692 1.00233411 0.83887051 0.97134024 1.00345436\n",
      " 0.99951313 1.06712336 0.98250532 0.993022   1.09981696 1.1067596\n",
      " 1.05449125 0.93802047 0.98102007 1.01097462 0.98994677 1.00398289\n",
      " 1.00196966 1.00025834 0.96810824 1.00590876 0.99674827 0.9996112\n",
      " 0.9996112  0.99785531 1.01171102 1.01912585 1.00300338 1.01518535\n",
      " 1.01398575 0.95790271 0.959074   0.98579571 1.01049038 1.00788523\n",
      " 1.00685339 0.97844615 1.0027379  0.99848826]\n"
     ]
    }
   ],
   "source": [
    "x_test_scaled_enero18 = scaler.transform(x_test_enero18)  \n",
    "print(x_test_scaled.mean(axis=0))\n",
    "print(x_test_scaled.std(axis=0))"
   ]
  },
  {
   "cell_type": "code",
   "execution_count": 90,
   "metadata": {},
   "outputs": [
    {
     "name": "stdout",
     "output_type": "stream",
     "text": [
      "[3 3 3 ... 3 1 3]\n"
     ]
    }
   ],
   "source": [
    "# Prediction prueba con Enero 2018\n",
    "y_predenero18 = classifier_neigh.predict(x_test_scaled_enero18)\n",
    "print(y_predenero18)"
   ]
  },
  {
   "cell_type": "code",
   "execution_count": 91,
   "metadata": {},
   "outputs": [
    {
     "name": "stdout",
     "output_type": "stream",
     "text": [
      "El accuracy es 0.8716280399987743\n"
     ]
    }
   ],
   "source": [
    "# Computo el accuracy (comparar ytest vs ypred)\n",
    "test_acc = accuracy_score(yenero18, y_predenero18)\n",
    "print(\"El accuracy es \" + str(test_acc))"
   ]
  },
  {
   "cell_type": "code",
   "execution_count": 104,
   "metadata": {},
   "outputs": [
    {
     "data": {
      "text/plain": [
       "array([[28270,   725,     9,  1981],\n",
       "       [ 1466, 11669,     2,   202],\n",
       "       [  739,     5,     3,    54],\n",
       "       [ 6917,   468,     0, 45393]])"
      ]
     },
     "execution_count": 104,
     "metadata": {},
     "output_type": "execute_result"
    }
   ],
   "source": [
    "# Compute confusion Matrix\n",
    "cm = confusion_matrix(yenero18, y_predenero18)\n",
    "cm"
   ]
  },
  {
   "cell_type": "code",
   "execution_count": 105,
   "metadata": {},
   "outputs": [
    {
     "data": {
      "image/png": "[encoded data removed]",
      "text/plain": [
       "<Figure size 432x288 with 2 Axes>"
      ]
     },
     "metadata": {},
     "output_type": "display_data"
    }
   ],
   "source": [
    "df_cm = pd.DataFrame(cm, index = ['147', 'APP', 'Comunas', 'WEB'], columns = ['147', 'APP', 'Comunas', 'WEB'])\n",
    "plt.figure(figsize = (6,4))\n",
    "sns.heatmap(df_cm, annot=True)\n",
    "plt.title('Classification Confusion matrix')\n",
    "plt.show()"
   ]
  },
  {
   "cell_type": "code",
   "execution_count": 66,
   "metadata": {},
   "outputs": [],
   "source": [
    "## Best group ever (???"
   ]
  },
  {
   "cell_type": "code",
   "execution_count": null,
   "metadata": {},
   "outputs": [],
   "source": []
  },
  {
   "cell_type": "code",
   "execution_count": null,
   "metadata": {},
   "outputs": [],
   "source": []
  },
  {
   "cell_type": "code",
   "execution_count": null,
   "metadata": {},
   "outputs": [],
   "source": []
  }
 ],
 "metadata": {
  "kernelspec": {
   "display_name": "Python 3",
   "language": "python",
   "name": "python3"
  },
  "language_info": {
   "codemirror_mode": {
    "name": "ipython",
    "version": 3
   },
   "file_extension": ".py",
   "mimetype": "text/x-python",
   "name": "python",
   "nbconvert_exporter": "python",
   "pygments_lexer": "ipython3",
   "version": "3.6.5"
  }
 },
 "nbformat": 4,
 "nbformat_minor": 2
}
